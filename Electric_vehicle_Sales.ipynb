{
 "cells": [
  {
   "cell_type": "markdown",
   "id": "f621fa32-adae-439e-ac57-df6d40737719",
   "metadata": {},
   "source": [
    "# Electric Vehicle Sales By State In India"
   ]
  },
  {
   "cell_type": "markdown",
   "id": "111b1be6-4cda-4477-825c-843a2d225034",
   "metadata": {
    "jp-MarkdownHeadingCollapsed": true
   },
   "source": [
    "## Problem Statement: \n",
    "**This project aims to analyze and predict the sales of Electric Vehicles (EV) by state in\n",
    "India using machine learning.**"
   ]
  },
  {
   "cell_type": "markdown",
   "id": "db16f5fd-d218-43f3-b26f-094c766b0dd9",
   "metadata": {},
   "source": [
    "## DataScience LIfeCycle has following components:\n",
    "   1. Data source:Here we read the data and paas to next component\n",
    "   2. Data Ingestion: Here we do train and test split and paas  to next component\n",
    "   3. Data Tranformation: Here we do EDA and Feature Engineering and paas to next component\n",
    "   4. ModelTrainer:Multiple models will get applied\n",
    "   5. ModelEvaluation: Each model will get evaluated and we will select model with best accuracy\n",
    "   6. Model Deployment:Here we use pipelines "
   ]
  },
  {
   "cell_type": "markdown",
   "id": "4fd707ae-1a9c-4284-92ab-e2e6f0b9bbd4",
   "metadata": {},
   "source": [
    "### Importing libraries"
   ]
  },
  {
   "cell_type": "code",
   "execution_count": 1,
   "id": "3afba512-b6e1-4898-8da7-fd653ddc2707",
   "metadata": {},
   "outputs": [],
   "source": [
    "import pandas as pd\n",
    "import numpy as np\n",
    "import seaborn as sns\n",
    "import matplotlib.pyplot as plt\n",
    "import sklearn\n",
    "import warnings\n",
    "warnings.filterwarnings('ignore')"
   ]
  },
  {
   "cell_type": "markdown",
   "id": "f13c7c09-6af0-4c84-ae86-4bfe98e98eb6",
   "metadata": {},
   "source": [
    "### Data source:Here we read the data and paas to next component\n",
    "**Our Data source is Electric_Vehicle.csv**"
   ]
  },
  {
   "cell_type": "code",
   "execution_count": 2,
   "id": "9d759bcf-d39b-407d-8807-d1309efbbe34",
   "metadata": {},
   "outputs": [
    {
     "data": {
      "text/html": [
       "<div>\n",
       "<style scoped>\n",
       "    .dataframe tbody tr th:only-of-type {\n",
       "        vertical-align: middle;\n",
       "    }\n",
       "\n",
       "    .dataframe tbody tr th {\n",
       "        vertical-align: top;\n",
       "    }\n",
       "\n",
       "    .dataframe thead th {\n",
       "        text-align: right;\n",
       "    }\n",
       "</style>\n",
       "<table border=\"1\" class=\"dataframe\">\n",
       "  <thead>\n",
       "    <tr style=\"text-align: right;\">\n",
       "      <th></th>\n",
       "      <th>Year</th>\n",
       "      <th>Month_Name</th>\n",
       "      <th>Date</th>\n",
       "      <th>State</th>\n",
       "      <th>Vehicle_Class</th>\n",
       "      <th>Vehicle_Category</th>\n",
       "      <th>Vehicle_Type</th>\n",
       "      <th>EV_Sales_Quantity</th>\n",
       "    </tr>\n",
       "  </thead>\n",
       "  <tbody>\n",
       "    <tr>\n",
       "      <th>0</th>\n",
       "      <td>2014.0</td>\n",
       "      <td>jan</td>\n",
       "      <td>1/1/2014</td>\n",
       "      <td>Andhra Pradesh</td>\n",
       "      <td>ADAPTED VEHICLE</td>\n",
       "      <td>Others</td>\n",
       "      <td>Others</td>\n",
       "      <td>0.0</td>\n",
       "    </tr>\n",
       "    <tr>\n",
       "      <th>1</th>\n",
       "      <td>2014.0</td>\n",
       "      <td>jan</td>\n",
       "      <td>1/1/2014</td>\n",
       "      <td>Andhra Pradesh</td>\n",
       "      <td>AGRICULTURAL TRACTOR</td>\n",
       "      <td>Others</td>\n",
       "      <td>Others</td>\n",
       "      <td>0.0</td>\n",
       "    </tr>\n",
       "    <tr>\n",
       "      <th>2</th>\n",
       "      <td>2014.0</td>\n",
       "      <td>jan</td>\n",
       "      <td>1/1/2014</td>\n",
       "      <td>Andhra Pradesh</td>\n",
       "      <td>AMBULANCE</td>\n",
       "      <td>Others</td>\n",
       "      <td>Others</td>\n",
       "      <td>0.0</td>\n",
       "    </tr>\n",
       "    <tr>\n",
       "      <th>3</th>\n",
       "      <td>2014.0</td>\n",
       "      <td>jan</td>\n",
       "      <td>1/1/2014</td>\n",
       "      <td>Andhra Pradesh</td>\n",
       "      <td>ARTICULATED VEHICLE</td>\n",
       "      <td>Others</td>\n",
       "      <td>Others</td>\n",
       "      <td>0.0</td>\n",
       "    </tr>\n",
       "    <tr>\n",
       "      <th>4</th>\n",
       "      <td>2014.0</td>\n",
       "      <td>jan</td>\n",
       "      <td>1/1/2014</td>\n",
       "      <td>Andhra Pradesh</td>\n",
       "      <td>BUS</td>\n",
       "      <td>Bus</td>\n",
       "      <td>Bus</td>\n",
       "      <td>0.0</td>\n",
       "    </tr>\n",
       "    <tr>\n",
       "      <th>...</th>\n",
       "      <td>...</td>\n",
       "      <td>...</td>\n",
       "      <td>...</td>\n",
       "      <td>...</td>\n",
       "      <td>...</td>\n",
       "      <td>...</td>\n",
       "      <td>...</td>\n",
       "      <td>...</td>\n",
       "    </tr>\n",
       "    <tr>\n",
       "      <th>96840</th>\n",
       "      <td>2023.0</td>\n",
       "      <td>dec</td>\n",
       "      <td>12/1/2023</td>\n",
       "      <td>Andaman &amp; Nicobar Island</td>\n",
       "      <td>MOTOR CAR</td>\n",
       "      <td>4-Wheelers</td>\n",
       "      <td>4W_Personal</td>\n",
       "      <td>1.0</td>\n",
       "    </tr>\n",
       "    <tr>\n",
       "      <th>96841</th>\n",
       "      <td>2023.0</td>\n",
       "      <td>dec</td>\n",
       "      <td>12/1/2023</td>\n",
       "      <td>Andaman &amp; Nicobar Island</td>\n",
       "      <td>MOTOR CYCLE/SCOOTER-USED FOR HIRE</td>\n",
       "      <td>2-Wheelers</td>\n",
       "      <td>2W_Shared</td>\n",
       "      <td>5.0</td>\n",
       "    </tr>\n",
       "    <tr>\n",
       "      <th>96842</th>\n",
       "      <td>2023.0</td>\n",
       "      <td>dec</td>\n",
       "      <td>12/1/2023</td>\n",
       "      <td>Andaman &amp; Nicobar Island</td>\n",
       "      <td>OMNI BUS</td>\n",
       "      <td>Bus</td>\n",
       "      <td>Bus</td>\n",
       "      <td>0.0</td>\n",
       "    </tr>\n",
       "    <tr>\n",
       "      <th>96843</th>\n",
       "      <td>2023.0</td>\n",
       "      <td>dec</td>\n",
       "      <td>12/1/2023</td>\n",
       "      <td>Andaman &amp; Nicobar Island</td>\n",
       "      <td>THREE WHEELER (GOODS)</td>\n",
       "      <td>3-Wheelers</td>\n",
       "      <td>3W_Goods</td>\n",
       "      <td>0.0</td>\n",
       "    </tr>\n",
       "    <tr>\n",
       "      <th>96844</th>\n",
       "      <td>2023.0</td>\n",
       "      <td>dec</td>\n",
       "      <td>12/1/2023</td>\n",
       "      <td>Andaman &amp; Nicobar Island</td>\n",
       "      <td>THREE WHEELER (PASSENGER)</td>\n",
       "      <td>3-Wheelers</td>\n",
       "      <td>3W_Shared</td>\n",
       "      <td>0.0</td>\n",
       "    </tr>\n",
       "  </tbody>\n",
       "</table>\n",
       "<p>96845 rows × 8 columns</p>\n",
       "</div>"
      ],
      "text/plain": [
       "         Year Month_Name       Date                     State  \\\n",
       "0      2014.0        jan   1/1/2014            Andhra Pradesh   \n",
       "1      2014.0        jan   1/1/2014            Andhra Pradesh   \n",
       "2      2014.0        jan   1/1/2014            Andhra Pradesh   \n",
       "3      2014.0        jan   1/1/2014            Andhra Pradesh   \n",
       "4      2014.0        jan   1/1/2014            Andhra Pradesh   \n",
       "...       ...        ...        ...                       ...   \n",
       "96840  2023.0        dec  12/1/2023  Andaman & Nicobar Island   \n",
       "96841  2023.0        dec  12/1/2023  Andaman & Nicobar Island   \n",
       "96842  2023.0        dec  12/1/2023  Andaman & Nicobar Island   \n",
       "96843  2023.0        dec  12/1/2023  Andaman & Nicobar Island   \n",
       "96844  2023.0        dec  12/1/2023  Andaman & Nicobar Island   \n",
       "\n",
       "                           Vehicle_Class Vehicle_Category Vehicle_Type  \\\n",
       "0                        ADAPTED VEHICLE           Others       Others   \n",
       "1                   AGRICULTURAL TRACTOR           Others       Others   \n",
       "2                              AMBULANCE           Others       Others   \n",
       "3                    ARTICULATED VEHICLE           Others       Others   \n",
       "4                                    BUS              Bus          Bus   \n",
       "...                                  ...              ...          ...   \n",
       "96840                          MOTOR CAR       4-Wheelers  4W_Personal   \n",
       "96841  MOTOR CYCLE/SCOOTER-USED FOR HIRE       2-Wheelers    2W_Shared   \n",
       "96842                           OMNI BUS              Bus          Bus   \n",
       "96843              THREE WHEELER (GOODS)       3-Wheelers     3W_Goods   \n",
       "96844          THREE WHEELER (PASSENGER)       3-Wheelers    3W_Shared   \n",
       "\n",
       "       EV_Sales_Quantity  \n",
       "0                    0.0  \n",
       "1                    0.0  \n",
       "2                    0.0  \n",
       "3                    0.0  \n",
       "4                    0.0  \n",
       "...                  ...  \n",
       "96840                1.0  \n",
       "96841                5.0  \n",
       "96842                0.0  \n",
       "96843                0.0  \n",
       "96844                0.0  \n",
       "\n",
       "[96845 rows x 8 columns]"
      ]
     },
     "execution_count": 2,
     "metadata": {},
     "output_type": "execute_result"
    }
   ],
   "source": [
    "Electric_Vehicle_Data=pd.read_csv('Electric_Vehicle.csv')\n",
    "Electric_Vehicle_Data"
   ]
  },
  {
   "cell_type": "markdown",
   "id": "31870f29-0ce0-4189-aaab-d1e278304ba3",
   "metadata": {},
   "source": [
    "###  Data Transformation:Exploratory Data Analysis (EDA) & Feature Engineering"
   ]
  },
  {
   "cell_type": "markdown",
   "id": "92150934-78bf-4288-9e05-e2d33dd5e9f7",
   "metadata": {},
   "source": [
    "#### Exploratory Data Analysis (EDA) "
   ]
  },
  {
   "cell_type": "markdown",
   "id": "1456f3ba-f006-49a1-bce6-e0fb65ce8efb",
   "metadata": {},
   "source": [
    "#### Top 5 rows"
   ]
  },
  {
   "cell_type": "code",
   "execution_count": 3,
   "id": "a98b905d-972f-4512-b802-46d946f4a9b9",
   "metadata": {},
   "outputs": [
    {
     "data": {
      "text/html": [
       "<div>\n",
       "<style scoped>\n",
       "    .dataframe tbody tr th:only-of-type {\n",
       "        vertical-align: middle;\n",
       "    }\n",
       "\n",
       "    .dataframe tbody tr th {\n",
       "        vertical-align: top;\n",
       "    }\n",
       "\n",
       "    .dataframe thead th {\n",
       "        text-align: right;\n",
       "    }\n",
       "</style>\n",
       "<table border=\"1\" class=\"dataframe\">\n",
       "  <thead>\n",
       "    <tr style=\"text-align: right;\">\n",
       "      <th></th>\n",
       "      <th>Year</th>\n",
       "      <th>Month_Name</th>\n",
       "      <th>Date</th>\n",
       "      <th>State</th>\n",
       "      <th>Vehicle_Class</th>\n",
       "      <th>Vehicle_Category</th>\n",
       "      <th>Vehicle_Type</th>\n",
       "      <th>EV_Sales_Quantity</th>\n",
       "    </tr>\n",
       "  </thead>\n",
       "  <tbody>\n",
       "    <tr>\n",
       "      <th>0</th>\n",
       "      <td>2014.0</td>\n",
       "      <td>jan</td>\n",
       "      <td>1/1/2014</td>\n",
       "      <td>Andhra Pradesh</td>\n",
       "      <td>ADAPTED VEHICLE</td>\n",
       "      <td>Others</td>\n",
       "      <td>Others</td>\n",
       "      <td>0.0</td>\n",
       "    </tr>\n",
       "    <tr>\n",
       "      <th>1</th>\n",
       "      <td>2014.0</td>\n",
       "      <td>jan</td>\n",
       "      <td>1/1/2014</td>\n",
       "      <td>Andhra Pradesh</td>\n",
       "      <td>AGRICULTURAL TRACTOR</td>\n",
       "      <td>Others</td>\n",
       "      <td>Others</td>\n",
       "      <td>0.0</td>\n",
       "    </tr>\n",
       "    <tr>\n",
       "      <th>2</th>\n",
       "      <td>2014.0</td>\n",
       "      <td>jan</td>\n",
       "      <td>1/1/2014</td>\n",
       "      <td>Andhra Pradesh</td>\n",
       "      <td>AMBULANCE</td>\n",
       "      <td>Others</td>\n",
       "      <td>Others</td>\n",
       "      <td>0.0</td>\n",
       "    </tr>\n",
       "    <tr>\n",
       "      <th>3</th>\n",
       "      <td>2014.0</td>\n",
       "      <td>jan</td>\n",
       "      <td>1/1/2014</td>\n",
       "      <td>Andhra Pradesh</td>\n",
       "      <td>ARTICULATED VEHICLE</td>\n",
       "      <td>Others</td>\n",
       "      <td>Others</td>\n",
       "      <td>0.0</td>\n",
       "    </tr>\n",
       "    <tr>\n",
       "      <th>4</th>\n",
       "      <td>2014.0</td>\n",
       "      <td>jan</td>\n",
       "      <td>1/1/2014</td>\n",
       "      <td>Andhra Pradesh</td>\n",
       "      <td>BUS</td>\n",
       "      <td>Bus</td>\n",
       "      <td>Bus</td>\n",
       "      <td>0.0</td>\n",
       "    </tr>\n",
       "  </tbody>\n",
       "</table>\n",
       "</div>"
      ],
      "text/plain": [
       "     Year Month_Name      Date           State         Vehicle_Class  \\\n",
       "0  2014.0        jan  1/1/2014  Andhra Pradesh       ADAPTED VEHICLE   \n",
       "1  2014.0        jan  1/1/2014  Andhra Pradesh  AGRICULTURAL TRACTOR   \n",
       "2  2014.0        jan  1/1/2014  Andhra Pradesh             AMBULANCE   \n",
       "3  2014.0        jan  1/1/2014  Andhra Pradesh   ARTICULATED VEHICLE   \n",
       "4  2014.0        jan  1/1/2014  Andhra Pradesh                   BUS   \n",
       "\n",
       "  Vehicle_Category Vehicle_Type  EV_Sales_Quantity  \n",
       "0           Others       Others                0.0  \n",
       "1           Others       Others                0.0  \n",
       "2           Others       Others                0.0  \n",
       "3           Others       Others                0.0  \n",
       "4              Bus          Bus                0.0  "
      ]
     },
     "execution_count": 3,
     "metadata": {},
     "output_type": "execute_result"
    }
   ],
   "source": [
    "Electric_Vehicle_Data.head()"
   ]
  },
  {
   "cell_type": "markdown",
   "id": "7a54bb4f-29bf-4386-8ad5-4bff81ccfed6",
   "metadata": {},
   "source": [
    "#### Shape of Data"
   ]
  },
  {
   "cell_type": "code",
   "execution_count": 4,
   "id": "a81975fb-db37-46fa-aea2-83420e545f81",
   "metadata": {},
   "outputs": [
    {
     "data": {
      "text/plain": [
       "(96845, 8)"
      ]
     },
     "execution_count": 4,
     "metadata": {},
     "output_type": "execute_result"
    }
   ],
   "source": [
    "Electric_Vehicle_Data.shape"
   ]
  },
  {
   "cell_type": "markdown",
   "id": "f0427a61-36a1-4675-b078-de22eff4b4c1",
   "metadata": {},
   "source": [
    "### Data Checks"
   ]
  },
  {
   "cell_type": "markdown",
   "id": "ddcf6772-0900-4dc3-a64c-d75ae11d6426",
   "metadata": {},
   "source": [
    "#### **Check missing Values**"
   ]
  },
  {
   "cell_type": "code",
   "execution_count": 5,
   "id": "5aefe8c7-b151-4789-a131-7d9bb77ed14c",
   "metadata": {},
   "outputs": [
    {
     "data": {
      "text/plain": [
       "Year                 0\n",
       "Month_Name           0\n",
       "Date                 0\n",
       "State                0\n",
       "Vehicle_Class        0\n",
       "Vehicle_Category     0\n",
       "Vehicle_Type         0\n",
       "EV_Sales_Quantity    0\n",
       "dtype: int64"
      ]
     },
     "execution_count": 5,
     "metadata": {},
     "output_type": "execute_result"
    }
   ],
   "source": [
    "Electric_Vehicle_Data.isna().sum()"
   ]
  },
  {
   "cell_type": "markdown",
   "id": "8c4b5809-7c6f-4889-9640-937f45add609",
   "metadata": {},
   "source": [
    "**No Missing Value present**"
   ]
  },
  {
   "cell_type": "markdown",
   "id": "69b83abd-c9b5-45e7-b96d-0efcd5305fbd",
   "metadata": {},
   "source": [
    "#### Check Duplicates"
   ]
  },
  {
   "cell_type": "code",
   "execution_count": 6,
   "id": "863fb5d0-8a39-448c-b177-743324388594",
   "metadata": {},
   "outputs": [
    {
     "data": {
      "text/plain": [
       "0"
      ]
     },
     "execution_count": 6,
     "metadata": {},
     "output_type": "execute_result"
    }
   ],
   "source": [
    "Electric_Vehicle_Data.duplicated().sum()"
   ]
  },
  {
   "cell_type": "markdown",
   "id": "c6d778ca-4496-48d3-83d0-45d214e73d95",
   "metadata": {},
   "source": [
    "**No Duplicates present**"
   ]
  },
  {
   "cell_type": "markdown",
   "id": "9667c5d6-2b09-417a-b0b0-e88a95db7b14",
   "metadata": {},
   "source": [
    "#### Stastics about Data**"
   ]
  },
  {
   "cell_type": "markdown",
   "id": "8d5eeb91-a2e4-4c2f-8f2d-50e0f4c88caf",
   "metadata": {},
   "source": [
    "### Check Data Types"
   ]
  },
  {
   "cell_type": "code",
   "execution_count": 7,
   "id": "0cd21a3f-1174-41c5-8502-059b10f8cca6",
   "metadata": {},
   "outputs": [
    {
     "name": "stdout",
     "output_type": "stream",
     "text": [
      "<class 'pandas.core.frame.DataFrame'>\n",
      "RangeIndex: 96845 entries, 0 to 96844\n",
      "Data columns (total 8 columns):\n",
      " #   Column             Non-Null Count  Dtype  \n",
      "---  ------             --------------  -----  \n",
      " 0   Year               96845 non-null  float64\n",
      " 1   Month_Name         96845 non-null  object \n",
      " 2   Date               96845 non-null  object \n",
      " 3   State              96845 non-null  object \n",
      " 4   Vehicle_Class      96845 non-null  object \n",
      " 5   Vehicle_Category   96845 non-null  object \n",
      " 6   Vehicle_Type       96845 non-null  object \n",
      " 7   EV_Sales_Quantity  96845 non-null  float64\n",
      "dtypes: float64(2), object(6)\n",
      "memory usage: 5.9+ MB\n"
     ]
    }
   ],
   "source": [
    "Electric_Vehicle_Data.info()"
   ]
  },
  {
   "cell_type": "markdown",
   "id": "b3594969-df31-47c6-a8ce-54e44887a7b7",
   "metadata": {},
   "source": [
    "**we have float and object datatypes in our data set**"
   ]
  },
  {
   "cell_type": "markdown",
   "id": "5925b047-1575-43d6-8198-e1592b32dc4e",
   "metadata": {},
   "source": [
    "#### Unique number of values in each column"
   ]
  },
  {
   "cell_type": "code",
   "execution_count": 8,
   "id": "043f3274-fdeb-43c8-981e-80a84a1bd6a7",
   "metadata": {},
   "outputs": [
    {
     "data": {
      "text/plain": [
       "Year                   11\n",
       "Month_Name             12\n",
       "Date                  121\n",
       "State                  34\n",
       "Vehicle_Class          73\n",
       "Vehicle_Category        5\n",
       "Vehicle_Type           12\n",
       "EV_Sales_Quantity    1447\n",
       "dtype: int64"
      ]
     },
     "execution_count": 8,
     "metadata": {},
     "output_type": "execute_result"
    }
   ],
   "source": [
    "Electric_Vehicle_Data.nunique()"
   ]
  },
  {
   "cell_type": "code",
   "execution_count": 9,
   "id": "2da8c262-3b9a-481b-809c-07a3b51b66a7",
   "metadata": {},
   "outputs": [
    {
     "name": "stdout",
     "output_type": "stream",
     "text": [
      "73\n"
     ]
    }
   ],
   "source": [
    "print(len(Electric_Vehicle_Data['Vehicle_Class'].unique()))"
   ]
  },
  {
   "cell_type": "code",
   "execution_count": 10,
   "id": "8e4944ee-56fc-489c-b6ce-2f92922ab676",
   "metadata": {},
   "outputs": [
    {
     "data": {
      "text/html": [
       "<div>\n",
       "<style scoped>\n",
       "    .dataframe tbody tr th:only-of-type {\n",
       "        vertical-align: middle;\n",
       "    }\n",
       "\n",
       "    .dataframe tbody tr th {\n",
       "        vertical-align: top;\n",
       "    }\n",
       "\n",
       "    .dataframe thead th {\n",
       "        text-align: right;\n",
       "    }\n",
       "</style>\n",
       "<table border=\"1\" class=\"dataframe\">\n",
       "  <thead>\n",
       "    <tr style=\"text-align: right;\">\n",
       "      <th></th>\n",
       "      <th>Year</th>\n",
       "      <th>EV_Sales_Quantity</th>\n",
       "    </tr>\n",
       "  </thead>\n",
       "  <tbody>\n",
       "    <tr>\n",
       "      <th>count</th>\n",
       "      <td>96845.000000</td>\n",
       "      <td>96845.000000</td>\n",
       "    </tr>\n",
       "    <tr>\n",
       "      <th>mean</th>\n",
       "      <td>2018.622768</td>\n",
       "      <td>37.108896</td>\n",
       "    </tr>\n",
       "    <tr>\n",
       "      <th>std</th>\n",
       "      <td>2.895581</td>\n",
       "      <td>431.566675</td>\n",
       "    </tr>\n",
       "    <tr>\n",
       "      <th>min</th>\n",
       "      <td>2014.000000</td>\n",
       "      <td>0.000000</td>\n",
       "    </tr>\n",
       "    <tr>\n",
       "      <th>25%</th>\n",
       "      <td>2016.000000</td>\n",
       "      <td>0.000000</td>\n",
       "    </tr>\n",
       "    <tr>\n",
       "      <th>50%</th>\n",
       "      <td>2019.000000</td>\n",
       "      <td>0.000000</td>\n",
       "    </tr>\n",
       "    <tr>\n",
       "      <th>75%</th>\n",
       "      <td>2021.000000</td>\n",
       "      <td>0.000000</td>\n",
       "    </tr>\n",
       "    <tr>\n",
       "      <th>max</th>\n",
       "      <td>2024.000000</td>\n",
       "      <td>20584.000000</td>\n",
       "    </tr>\n",
       "  </tbody>\n",
       "</table>\n",
       "</div>"
      ],
      "text/plain": [
       "               Year  EV_Sales_Quantity\n",
       "count  96845.000000       96845.000000\n",
       "mean    2018.622768          37.108896\n",
       "std        2.895581         431.566675\n",
       "min     2014.000000           0.000000\n",
       "25%     2016.000000           0.000000\n",
       "50%     2019.000000           0.000000\n",
       "75%     2021.000000           0.000000\n",
       "max     2024.000000       20584.000000"
      ]
     },
     "execution_count": 10,
     "metadata": {},
     "output_type": "execute_result"
    }
   ],
   "source": [
    "Electric_Vehicle_Data.describe()"
   ]
  },
  {
   "cell_type": "markdown",
   "id": "aaa88d13-85b6-43af-9f49-6b1f525751f6",
   "metadata": {},
   "source": [
    "- Year can not be in float so converting it to integer\n",
    "- To maintain consistency converting EV_Sales_Quantity as well  to Integer"
   ]
  },
  {
   "cell_type": "code",
   "execution_count": 11,
   "id": "f54c99bd-f5ee-49f0-b99a-6c76d2da6661",
   "metadata": {},
   "outputs": [
    {
     "data": {
      "text/plain": [
       "0        jan\n",
       "1        jan\n",
       "2        jan\n",
       "3        jan\n",
       "4        jan\n",
       "        ... \n",
       "96840    dec\n",
       "96841    dec\n",
       "96842    dec\n",
       "96843    dec\n",
       "96844    dec\n",
       "Name: Month_Name, Length: 96845, dtype: object"
      ]
     },
     "execution_count": 11,
     "metadata": {},
     "output_type": "execute_result"
    }
   ],
   "source": [
    "Electric_Vehicle_Data['Month_Name']"
   ]
  },
  {
   "cell_type": "code",
   "execution_count": 12,
   "id": "dcf75351-d415-4b92-9f1d-aae1f2a12c35",
   "metadata": {},
   "outputs": [
    {
     "name": "stdout",
     "output_type": "stream",
     "text": [
      "float64\n",
      "float64\n",
      "object\n"
     ]
    }
   ],
   "source": [
    "print(Electric_Vehicle_Data['Year'].dtype)\n",
    "print(Electric_Vehicle_Data['EV_Sales_Quantity'].dtype)\n",
    "print(Electric_Vehicle_Data['Month_Name'].dtype)"
   ]
  },
  {
   "cell_type": "code",
   "execution_count": 13,
   "id": "46f4db0d-fa9e-4d35-b77e-b810b2e33b1e",
   "metadata": {},
   "outputs": [
    {
     "data": {
      "text/html": [
       "<div>\n",
       "<style scoped>\n",
       "    .dataframe tbody tr th:only-of-type {\n",
       "        vertical-align: middle;\n",
       "    }\n",
       "\n",
       "    .dataframe tbody tr th {\n",
       "        vertical-align: top;\n",
       "    }\n",
       "\n",
       "    .dataframe thead th {\n",
       "        text-align: right;\n",
       "    }\n",
       "</style>\n",
       "<table border=\"1\" class=\"dataframe\">\n",
       "  <thead>\n",
       "    <tr style=\"text-align: right;\">\n",
       "      <th></th>\n",
       "      <th>Year</th>\n",
       "      <th>EV_Sales_Quantity</th>\n",
       "    </tr>\n",
       "  </thead>\n",
       "  <tbody>\n",
       "    <tr>\n",
       "      <th>count</th>\n",
       "      <td>96845.000000</td>\n",
       "      <td>96845.000000</td>\n",
       "    </tr>\n",
       "    <tr>\n",
       "      <th>mean</th>\n",
       "      <td>2018.622768</td>\n",
       "      <td>37.108896</td>\n",
       "    </tr>\n",
       "    <tr>\n",
       "      <th>std</th>\n",
       "      <td>2.895581</td>\n",
       "      <td>431.566675</td>\n",
       "    </tr>\n",
       "    <tr>\n",
       "      <th>min</th>\n",
       "      <td>2014.000000</td>\n",
       "      <td>0.000000</td>\n",
       "    </tr>\n",
       "    <tr>\n",
       "      <th>25%</th>\n",
       "      <td>2016.000000</td>\n",
       "      <td>0.000000</td>\n",
       "    </tr>\n",
       "    <tr>\n",
       "      <th>50%</th>\n",
       "      <td>2019.000000</td>\n",
       "      <td>0.000000</td>\n",
       "    </tr>\n",
       "    <tr>\n",
       "      <th>75%</th>\n",
       "      <td>2021.000000</td>\n",
       "      <td>0.000000</td>\n",
       "    </tr>\n",
       "    <tr>\n",
       "      <th>max</th>\n",
       "      <td>2024.000000</td>\n",
       "      <td>20584.000000</td>\n",
       "    </tr>\n",
       "  </tbody>\n",
       "</table>\n",
       "</div>"
      ],
      "text/plain": [
       "               Year  EV_Sales_Quantity\n",
       "count  96845.000000       96845.000000\n",
       "mean    2018.622768          37.108896\n",
       "std        2.895581         431.566675\n",
       "min     2014.000000           0.000000\n",
       "25%     2016.000000           0.000000\n",
       "50%     2019.000000           0.000000\n",
       "75%     2021.000000           0.000000\n",
       "max     2024.000000       20584.000000"
      ]
     },
     "execution_count": 13,
     "metadata": {},
     "output_type": "execute_result"
    }
   ],
   "source": [
    "Electric_Vehicle_Data.describe()"
   ]
  },
  {
   "cell_type": "code",
   "execution_count": 14,
   "id": "cc9dbcd7-87f4-4436-912b-3ce23f740b0c",
   "metadata": {},
   "outputs": [
    {
     "name": "stdout",
     "output_type": "stream",
     "text": [
      "<class 'pandas.core.frame.DataFrame'>\n",
      "RangeIndex: 96845 entries, 0 to 96844\n",
      "Data columns (total 8 columns):\n",
      " #   Column             Non-Null Count  Dtype  \n",
      "---  ------             --------------  -----  \n",
      " 0   Year               96845 non-null  float64\n",
      " 1   Month_Name         96845 non-null  object \n",
      " 2   Date               96845 non-null  object \n",
      " 3   State              96845 non-null  object \n",
      " 4   Vehicle_Class      96845 non-null  object \n",
      " 5   Vehicle_Category   96845 non-null  object \n",
      " 6   Vehicle_Type       96845 non-null  object \n",
      " 7   EV_Sales_Quantity  96845 non-null  float64\n",
      "dtypes: float64(2), object(6)\n",
      "memory usage: 5.9+ MB\n"
     ]
    }
   ],
   "source": [
    "Electric_Vehicle_Data.info()"
   ]
  },
  {
   "cell_type": "markdown",
   "id": "62d010f1-d438-4a0a-b8af-88716a1784af",
   "metadata": {},
   "source": [
    "**Now we have date types as integer and Object**"
   ]
  },
  {
   "cell_type": "code",
   "execution_count": 15,
   "id": "cdd26be7-9f97-40f1-b4da-09d5c214375b",
   "metadata": {},
   "outputs": [
    {
     "name": "stdout",
     "output_type": "stream",
     "text": [
      "Dependant_features: ['Year', 'Month_Name', 'Date', 'State', 'Vehicle_Class', 'Vehicle_Category', 'Vehicle_Type']\n",
      "Target_Feature: ['EV_Sales_Quantity']\n"
     ]
    }
   ],
   "source": [
    "Dependant_features=['Year','Month_Name','Date','State','Vehicle_Class','Vehicle_Category','Vehicle_Type']\n",
    "Target_Feature=['EV_Sales_Quantity']\n",
    "print('Dependant_features:',Dependant_features)\n",
    "print('Target_Feature:',Target_Feature)"
   ]
  },
  {
   "cell_type": "code",
   "execution_count": 16,
   "id": "24e967e7-0c77-47a9-b9db-9c48da869ecf",
   "metadata": {},
   "outputs": [],
   "source": [
    "Electric_Vehicle_Data['Day']=[val.split('/')[0] for val in Electric_Vehicle_Data['Date']]"
   ]
  },
  {
   "cell_type": "code",
   "execution_count": 17,
   "id": "4b8f84f8-410e-4cf2-ae68-4ccbb54064d1",
   "metadata": {},
   "outputs": [
    {
     "data": {
      "text/plain": [
       "0         1\n",
       "1         1\n",
       "2         1\n",
       "3         1\n",
       "4         1\n",
       "         ..\n",
       "96840    12\n",
       "96841    12\n",
       "96842    12\n",
       "96843    12\n",
       "96844    12\n",
       "Name: Day, Length: 96845, dtype: object"
      ]
     },
     "execution_count": 17,
     "metadata": {},
     "output_type": "execute_result"
    }
   ],
   "source": [
    "Electric_Vehicle_Data['Day']"
   ]
  },
  {
   "cell_type": "code",
   "execution_count": 18,
   "id": "78feb4cf-dc25-45eb-81eb-f642baf40006",
   "metadata": {},
   "outputs": [
    {
     "data": {
      "text/html": [
       "<div>\n",
       "<style scoped>\n",
       "    .dataframe tbody tr th:only-of-type {\n",
       "        vertical-align: middle;\n",
       "    }\n",
       "\n",
       "    .dataframe tbody tr th {\n",
       "        vertical-align: top;\n",
       "    }\n",
       "\n",
       "    .dataframe thead th {\n",
       "        text-align: right;\n",
       "    }\n",
       "</style>\n",
       "<table border=\"1\" class=\"dataframe\">\n",
       "  <thead>\n",
       "    <tr style=\"text-align: right;\">\n",
       "      <th></th>\n",
       "      <th>Year</th>\n",
       "      <th>EV_Sales_Quantity</th>\n",
       "    </tr>\n",
       "  </thead>\n",
       "  <tbody>\n",
       "    <tr>\n",
       "      <th>count</th>\n",
       "      <td>96845.000000</td>\n",
       "      <td>96845.000000</td>\n",
       "    </tr>\n",
       "    <tr>\n",
       "      <th>mean</th>\n",
       "      <td>2018.622768</td>\n",
       "      <td>37.108896</td>\n",
       "    </tr>\n",
       "    <tr>\n",
       "      <th>std</th>\n",
       "      <td>2.895581</td>\n",
       "      <td>431.566675</td>\n",
       "    </tr>\n",
       "    <tr>\n",
       "      <th>min</th>\n",
       "      <td>2014.000000</td>\n",
       "      <td>0.000000</td>\n",
       "    </tr>\n",
       "    <tr>\n",
       "      <th>25%</th>\n",
       "      <td>2016.000000</td>\n",
       "      <td>0.000000</td>\n",
       "    </tr>\n",
       "    <tr>\n",
       "      <th>50%</th>\n",
       "      <td>2019.000000</td>\n",
       "      <td>0.000000</td>\n",
       "    </tr>\n",
       "    <tr>\n",
       "      <th>75%</th>\n",
       "      <td>2021.000000</td>\n",
       "      <td>0.000000</td>\n",
       "    </tr>\n",
       "    <tr>\n",
       "      <th>max</th>\n",
       "      <td>2024.000000</td>\n",
       "      <td>20584.000000</td>\n",
       "    </tr>\n",
       "  </tbody>\n",
       "</table>\n",
       "</div>"
      ],
      "text/plain": [
       "               Year  EV_Sales_Quantity\n",
       "count  96845.000000       96845.000000\n",
       "mean    2018.622768          37.108896\n",
       "std        2.895581         431.566675\n",
       "min     2014.000000           0.000000\n",
       "25%     2016.000000           0.000000\n",
       "50%     2019.000000           0.000000\n",
       "75%     2021.000000           0.000000\n",
       "max     2024.000000       20584.000000"
      ]
     },
     "execution_count": 18,
     "metadata": {},
     "output_type": "execute_result"
    }
   ],
   "source": [
    "Electric_Vehicle_Data.describe()"
   ]
  },
  {
   "cell_type": "markdown",
   "id": "fd8b19df-3bc0-40df-a9e9-799f2588f281",
   "metadata": {},
   "source": [
    "**As we have split the Date in Day,month_name,Year ,we dont need Date column,\n",
    " we are dropping it**"
   ]
  },
  {
   "cell_type": "code",
   "execution_count": 19,
   "id": "9e08e1f1-a739-45b8-8298-f8463260acbf",
   "metadata": {},
   "outputs": [],
   "source": [
    "Electric_Vehicle_Data_modified=Electric_Vehicle_Data.drop(['Date'],axis=1,inplace=True)"
   ]
  },
  {
   "cell_type": "code",
   "execution_count": 20,
   "id": "e4be9cf4-398a-4a39-a06b-752c7c9cdf3c",
   "metadata": {},
   "outputs": [
    {
     "data": {
      "text/html": [
       "<div>\n",
       "<style scoped>\n",
       "    .dataframe tbody tr th:only-of-type {\n",
       "        vertical-align: middle;\n",
       "    }\n",
       "\n",
       "    .dataframe tbody tr th {\n",
       "        vertical-align: top;\n",
       "    }\n",
       "\n",
       "    .dataframe thead th {\n",
       "        text-align: right;\n",
       "    }\n",
       "</style>\n",
       "<table border=\"1\" class=\"dataframe\">\n",
       "  <thead>\n",
       "    <tr style=\"text-align: right;\">\n",
       "      <th></th>\n",
       "      <th>Year</th>\n",
       "      <th>Month_Name</th>\n",
       "      <th>State</th>\n",
       "      <th>Vehicle_Class</th>\n",
       "      <th>Vehicle_Category</th>\n",
       "      <th>Vehicle_Type</th>\n",
       "      <th>EV_Sales_Quantity</th>\n",
       "      <th>Day</th>\n",
       "    </tr>\n",
       "  </thead>\n",
       "  <tbody>\n",
       "    <tr>\n",
       "      <th>0</th>\n",
       "      <td>2014.0</td>\n",
       "      <td>jan</td>\n",
       "      <td>Andhra Pradesh</td>\n",
       "      <td>ADAPTED VEHICLE</td>\n",
       "      <td>Others</td>\n",
       "      <td>Others</td>\n",
       "      <td>0.0</td>\n",
       "      <td>1</td>\n",
       "    </tr>\n",
       "    <tr>\n",
       "      <th>1</th>\n",
       "      <td>2014.0</td>\n",
       "      <td>jan</td>\n",
       "      <td>Andhra Pradesh</td>\n",
       "      <td>AGRICULTURAL TRACTOR</td>\n",
       "      <td>Others</td>\n",
       "      <td>Others</td>\n",
       "      <td>0.0</td>\n",
       "      <td>1</td>\n",
       "    </tr>\n",
       "    <tr>\n",
       "      <th>2</th>\n",
       "      <td>2014.0</td>\n",
       "      <td>jan</td>\n",
       "      <td>Andhra Pradesh</td>\n",
       "      <td>AMBULANCE</td>\n",
       "      <td>Others</td>\n",
       "      <td>Others</td>\n",
       "      <td>0.0</td>\n",
       "      <td>1</td>\n",
       "    </tr>\n",
       "    <tr>\n",
       "      <th>3</th>\n",
       "      <td>2014.0</td>\n",
       "      <td>jan</td>\n",
       "      <td>Andhra Pradesh</td>\n",
       "      <td>ARTICULATED VEHICLE</td>\n",
       "      <td>Others</td>\n",
       "      <td>Others</td>\n",
       "      <td>0.0</td>\n",
       "      <td>1</td>\n",
       "    </tr>\n",
       "    <tr>\n",
       "      <th>4</th>\n",
       "      <td>2014.0</td>\n",
       "      <td>jan</td>\n",
       "      <td>Andhra Pradesh</td>\n",
       "      <td>BUS</td>\n",
       "      <td>Bus</td>\n",
       "      <td>Bus</td>\n",
       "      <td>0.0</td>\n",
       "      <td>1</td>\n",
       "    </tr>\n",
       "  </tbody>\n",
       "</table>\n",
       "</div>"
      ],
      "text/plain": [
       "     Year Month_Name           State         Vehicle_Class Vehicle_Category  \\\n",
       "0  2014.0        jan  Andhra Pradesh       ADAPTED VEHICLE           Others   \n",
       "1  2014.0        jan  Andhra Pradesh  AGRICULTURAL TRACTOR           Others   \n",
       "2  2014.0        jan  Andhra Pradesh             AMBULANCE           Others   \n",
       "3  2014.0        jan  Andhra Pradesh   ARTICULATED VEHICLE           Others   \n",
       "4  2014.0        jan  Andhra Pradesh                   BUS              Bus   \n",
       "\n",
       "  Vehicle_Type  EV_Sales_Quantity Day  \n",
       "0       Others                0.0   1  \n",
       "1       Others                0.0   1  \n",
       "2       Others                0.0   1  \n",
       "3       Others                0.0   1  \n",
       "4          Bus                0.0   1  "
      ]
     },
     "execution_count": 20,
     "metadata": {},
     "output_type": "execute_result"
    }
   ],
   "source": [
    "Electric_Vehicle_Data.head()"
   ]
  },
  {
   "cell_type": "code",
   "execution_count": 21,
   "id": "d5e09ea7-6e06-4b47-b1f4-29c8e509e83c",
   "metadata": {},
   "outputs": [],
   "source": [
    "Electric_Vehicle_Data['Vehicle_Class']=[val.replace(' ','\\n\\n\\n') for val in Electric_Vehicle_Data['Vehicle_Class']]\n"
   ]
  },
  {
   "cell_type": "code",
   "execution_count": 22,
   "id": "147e38c6-7202-4186-a008-01b7470d49a5",
   "metadata": {},
   "outputs": [
    {
     "data": {
      "text/plain": [
       "0                                    ADAPTED\\n\\n\\nVEHICLE\n",
       "1                               AGRICULTURAL\\n\\n\\nTRACTOR\n",
       "2                                               AMBULANCE\n",
       "3                                ARTICULATED\\n\\n\\nVEHICLE\n",
       "4                                                     BUS\n",
       "                               ...                       \n",
       "96840                                      MOTOR\\n\\n\\nCAR\n",
       "96841    MOTOR\\n\\n\\nCYCLE/SCOOTER-USED\\n\\n\\nFOR\\n\\n\\nHIRE\n",
       "96842                                       OMNI\\n\\n\\nBUS\n",
       "96843                     THREE\\n\\n\\nWHEELER\\n\\n\\n(GOODS)\n",
       "96844                 THREE\\n\\n\\nWHEELER\\n\\n\\n(PASSENGER)\n",
       "Name: Vehicle_Class, Length: 96845, dtype: object"
      ]
     },
     "execution_count": 22,
     "metadata": {},
     "output_type": "execute_result"
    }
   ],
   "source": [
    "Electric_Vehicle_Data['Vehicle_Class']"
   ]
  },
  {
   "cell_type": "code",
   "execution_count": 23,
   "id": "2f85ec2d-9704-4f5a-a4c8-4935c814f6c8",
   "metadata": {},
   "outputs": [],
   "source": [
    "Electric_Vehicle_Data_zero_sales=Electric_Vehicle_Data[Electric_Vehicle_Data['EV_Sales_Quantity']==0]"
   ]
  },
  {
   "cell_type": "code",
   "execution_count": 24,
   "id": "ff9461a0-1aef-4ab1-bae8-5fb70b86ab50",
   "metadata": {},
   "outputs": [],
   "source": [
    "non_zero_sales = Electric_Vehicle_Data[Electric_Vehicle_Data['EV_Sales_Quantity'].ne(0)]"
   ]
  },
  {
   "cell_type": "code",
   "execution_count": 25,
   "id": "691d61a9-f8d3-4be3-9f17-e0f669b0edf0",
   "metadata": {},
   "outputs": [
    {
     "data": {
      "text/html": [
       "<div>\n",
       "<style scoped>\n",
       "    .dataframe tbody tr th:only-of-type {\n",
       "        vertical-align: middle;\n",
       "    }\n",
       "\n",
       "    .dataframe tbody tr th {\n",
       "        vertical-align: top;\n",
       "    }\n",
       "\n",
       "    .dataframe thead th {\n",
       "        text-align: right;\n",
       "    }\n",
       "</style>\n",
       "<table border=\"1\" class=\"dataframe\">\n",
       "  <thead>\n",
       "    <tr style=\"text-align: right;\">\n",
       "      <th></th>\n",
       "      <th>Year</th>\n",
       "      <th>Month_Name</th>\n",
       "      <th>State</th>\n",
       "      <th>Vehicle_Class</th>\n",
       "      <th>Vehicle_Category</th>\n",
       "      <th>Vehicle_Type</th>\n",
       "      <th>EV_Sales_Quantity</th>\n",
       "      <th>Day</th>\n",
       "    </tr>\n",
       "  </thead>\n",
       "  <tbody>\n",
       "    <tr>\n",
       "      <th>13</th>\n",
       "      <td>2014.0</td>\n",
       "      <td>jan</td>\n",
       "      <td>Andhra Pradesh</td>\n",
       "      <td>M-CYCLE/SCOOTER</td>\n",
       "      <td>2-Wheelers</td>\n",
       "      <td>2W_Personal</td>\n",
       "      <td>1.0</td>\n",
       "      <td>1</td>\n",
       "    </tr>\n",
       "    <tr>\n",
       "      <th>102</th>\n",
       "      <td>2014.0</td>\n",
       "      <td>jan</td>\n",
       "      <td>Chhattisgarh</td>\n",
       "      <td>M-CYCLE/SCOOTER</td>\n",
       "      <td>2-Wheelers</td>\n",
       "      <td>2W_Personal</td>\n",
       "      <td>10.0</td>\n",
       "      <td>1</td>\n",
       "    </tr>\n",
       "    <tr>\n",
       "      <th>153</th>\n",
       "      <td>2014.0</td>\n",
       "      <td>jan</td>\n",
       "      <td>Delhi</td>\n",
       "      <td>M-CYCLE/SCOOTER</td>\n",
       "      <td>2-Wheelers</td>\n",
       "      <td>2W_Personal</td>\n",
       "      <td>2.0</td>\n",
       "      <td>1</td>\n",
       "    </tr>\n",
       "    <tr>\n",
       "      <th>157</th>\n",
       "      <td>2014.0</td>\n",
       "      <td>jan</td>\n",
       "      <td>Delhi</td>\n",
       "      <td>MOTOR\\n\\n\\nCAR</td>\n",
       "      <td>4-Wheelers</td>\n",
       "      <td>4W_Personal</td>\n",
       "      <td>5.0</td>\n",
       "      <td>1</td>\n",
       "    </tr>\n",
       "    <tr>\n",
       "      <th>173</th>\n",
       "      <td>2014.0</td>\n",
       "      <td>jan</td>\n",
       "      <td>Goa</td>\n",
       "      <td>MOTOR\\n\\n\\nCAR</td>\n",
       "      <td>4-Wheelers</td>\n",
       "      <td>4W_Personal</td>\n",
       "      <td>1.0</td>\n",
       "      <td>1</td>\n",
       "    </tr>\n",
       "    <tr>\n",
       "      <th>...</th>\n",
       "      <td>...</td>\n",
       "      <td>...</td>\n",
       "      <td>...</td>\n",
       "      <td>...</td>\n",
       "      <td>...</td>\n",
       "      <td>...</td>\n",
       "      <td>...</td>\n",
       "      <td>...</td>\n",
       "    </tr>\n",
       "    <tr>\n",
       "      <th>96833</th>\n",
       "      <td>2023.0</td>\n",
       "      <td>dec</td>\n",
       "      <td>Goa</td>\n",
       "      <td>THREE\\n\\n\\nWHEELER\\n\\n\\n(PERSONAL)</td>\n",
       "      <td>3-Wheelers</td>\n",
       "      <td>3W_Personal</td>\n",
       "      <td>1.0</td>\n",
       "      <td>12</td>\n",
       "    </tr>\n",
       "    <tr>\n",
       "      <th>96837</th>\n",
       "      <td>2023.0</td>\n",
       "      <td>dec</td>\n",
       "      <td>Andaman &amp; Nicobar Island</td>\n",
       "      <td>M-CYCLE/SCOOTER</td>\n",
       "      <td>2-Wheelers</td>\n",
       "      <td>2W_Personal</td>\n",
       "      <td>2.0</td>\n",
       "      <td>12</td>\n",
       "    </tr>\n",
       "    <tr>\n",
       "      <th>96839</th>\n",
       "      <td>2023.0</td>\n",
       "      <td>dec</td>\n",
       "      <td>Andaman &amp; Nicobar Island</td>\n",
       "      <td>MOTOR\\n\\n\\nCAB</td>\n",
       "      <td>4-Wheelers</td>\n",
       "      <td>4W_Shared</td>\n",
       "      <td>1.0</td>\n",
       "      <td>12</td>\n",
       "    </tr>\n",
       "    <tr>\n",
       "      <th>96840</th>\n",
       "      <td>2023.0</td>\n",
       "      <td>dec</td>\n",
       "      <td>Andaman &amp; Nicobar Island</td>\n",
       "      <td>MOTOR\\n\\n\\nCAR</td>\n",
       "      <td>4-Wheelers</td>\n",
       "      <td>4W_Personal</td>\n",
       "      <td>1.0</td>\n",
       "      <td>12</td>\n",
       "    </tr>\n",
       "    <tr>\n",
       "      <th>96841</th>\n",
       "      <td>2023.0</td>\n",
       "      <td>dec</td>\n",
       "      <td>Andaman &amp; Nicobar Island</td>\n",
       "      <td>MOTOR\\n\\n\\nCYCLE/SCOOTER-USED\\n\\n\\nFOR\\n\\n\\nHIRE</td>\n",
       "      <td>2-Wheelers</td>\n",
       "      <td>2W_Shared</td>\n",
       "      <td>5.0</td>\n",
       "      <td>12</td>\n",
       "    </tr>\n",
       "  </tbody>\n",
       "</table>\n",
       "<p>14062 rows × 8 columns</p>\n",
       "</div>"
      ],
      "text/plain": [
       "         Year Month_Name                     State  \\\n",
       "13     2014.0        jan            Andhra Pradesh   \n",
       "102    2014.0        jan              Chhattisgarh   \n",
       "153    2014.0        jan                     Delhi   \n",
       "157    2014.0        jan                     Delhi   \n",
       "173    2014.0        jan                       Goa   \n",
       "...       ...        ...                       ...   \n",
       "96833  2023.0        dec                       Goa   \n",
       "96837  2023.0        dec  Andaman & Nicobar Island   \n",
       "96839  2023.0        dec  Andaman & Nicobar Island   \n",
       "96840  2023.0        dec  Andaman & Nicobar Island   \n",
       "96841  2023.0        dec  Andaman & Nicobar Island   \n",
       "\n",
       "                                          Vehicle_Class Vehicle_Category  \\\n",
       "13                                      M-CYCLE/SCOOTER       2-Wheelers   \n",
       "102                                     M-CYCLE/SCOOTER       2-Wheelers   \n",
       "153                                     M-CYCLE/SCOOTER       2-Wheelers   \n",
       "157                                      MOTOR\\n\\n\\nCAR       4-Wheelers   \n",
       "173                                      MOTOR\\n\\n\\nCAR       4-Wheelers   \n",
       "...                                                 ...              ...   \n",
       "96833                THREE\\n\\n\\nWHEELER\\n\\n\\n(PERSONAL)       3-Wheelers   \n",
       "96837                                   M-CYCLE/SCOOTER       2-Wheelers   \n",
       "96839                                    MOTOR\\n\\n\\nCAB       4-Wheelers   \n",
       "96840                                    MOTOR\\n\\n\\nCAR       4-Wheelers   \n",
       "96841  MOTOR\\n\\n\\nCYCLE/SCOOTER-USED\\n\\n\\nFOR\\n\\n\\nHIRE       2-Wheelers   \n",
       "\n",
       "      Vehicle_Type  EV_Sales_Quantity Day  \n",
       "13     2W_Personal                1.0   1  \n",
       "102    2W_Personal               10.0   1  \n",
       "153    2W_Personal                2.0   1  \n",
       "157    4W_Personal                5.0   1  \n",
       "173    4W_Personal                1.0   1  \n",
       "...            ...                ...  ..  \n",
       "96833  3W_Personal                1.0  12  \n",
       "96837  2W_Personal                2.0  12  \n",
       "96839    4W_Shared                1.0  12  \n",
       "96840  4W_Personal                1.0  12  \n",
       "96841    2W_Shared                5.0  12  \n",
       "\n",
       "[14062 rows x 8 columns]"
      ]
     },
     "execution_count": 25,
     "metadata": {},
     "output_type": "execute_result"
    }
   ],
   "source": [
    "non_zero_sales"
   ]
  },
  {
   "cell_type": "code",
   "execution_count": 26,
   "id": "3a15d354-7dc7-4f2f-957f-f82378de4289",
   "metadata": {},
   "outputs": [
    {
     "data": {
      "text/html": [
       "<div>\n",
       "<style scoped>\n",
       "    .dataframe tbody tr th:only-of-type {\n",
       "        vertical-align: middle;\n",
       "    }\n",
       "\n",
       "    .dataframe tbody tr th {\n",
       "        vertical-align: top;\n",
       "    }\n",
       "\n",
       "    .dataframe thead th {\n",
       "        text-align: right;\n",
       "    }\n",
       "</style>\n",
       "<table border=\"1\" class=\"dataframe\">\n",
       "  <thead>\n",
       "    <tr style=\"text-align: right;\">\n",
       "      <th></th>\n",
       "      <th>Year</th>\n",
       "      <th>Month_Name</th>\n",
       "      <th>State</th>\n",
       "      <th>Vehicle_Class</th>\n",
       "      <th>Vehicle_Category</th>\n",
       "      <th>Vehicle_Type</th>\n",
       "      <th>EV_Sales_Quantity</th>\n",
       "      <th>Day</th>\n",
       "    </tr>\n",
       "  </thead>\n",
       "  <tbody>\n",
       "    <tr>\n",
       "      <th>0</th>\n",
       "      <td>2014.0</td>\n",
       "      <td>jan</td>\n",
       "      <td>Andhra Pradesh</td>\n",
       "      <td>ADAPTED\\n\\n\\nVEHICLE</td>\n",
       "      <td>Others</td>\n",
       "      <td>Others</td>\n",
       "      <td>0.0</td>\n",
       "      <td>1</td>\n",
       "    </tr>\n",
       "    <tr>\n",
       "      <th>1</th>\n",
       "      <td>2014.0</td>\n",
       "      <td>jan</td>\n",
       "      <td>Andhra Pradesh</td>\n",
       "      <td>AGRICULTURAL\\n\\n\\nTRACTOR</td>\n",
       "      <td>Others</td>\n",
       "      <td>Others</td>\n",
       "      <td>0.0</td>\n",
       "      <td>1</td>\n",
       "    </tr>\n",
       "    <tr>\n",
       "      <th>2</th>\n",
       "      <td>2014.0</td>\n",
       "      <td>jan</td>\n",
       "      <td>Andhra Pradesh</td>\n",
       "      <td>AMBULANCE</td>\n",
       "      <td>Others</td>\n",
       "      <td>Others</td>\n",
       "      <td>0.0</td>\n",
       "      <td>1</td>\n",
       "    </tr>\n",
       "    <tr>\n",
       "      <th>3</th>\n",
       "      <td>2014.0</td>\n",
       "      <td>jan</td>\n",
       "      <td>Andhra Pradesh</td>\n",
       "      <td>ARTICULATED\\n\\n\\nVEHICLE</td>\n",
       "      <td>Others</td>\n",
       "      <td>Others</td>\n",
       "      <td>0.0</td>\n",
       "      <td>1</td>\n",
       "    </tr>\n",
       "    <tr>\n",
       "      <th>4</th>\n",
       "      <td>2014.0</td>\n",
       "      <td>jan</td>\n",
       "      <td>Andhra Pradesh</td>\n",
       "      <td>BUS</td>\n",
       "      <td>Bus</td>\n",
       "      <td>Bus</td>\n",
       "      <td>0.0</td>\n",
       "      <td>1</td>\n",
       "    </tr>\n",
       "    <tr>\n",
       "      <th>...</th>\n",
       "      <td>...</td>\n",
       "      <td>...</td>\n",
       "      <td>...</td>\n",
       "      <td>...</td>\n",
       "      <td>...</td>\n",
       "      <td>...</td>\n",
       "      <td>...</td>\n",
       "      <td>...</td>\n",
       "    </tr>\n",
       "    <tr>\n",
       "      <th>96836</th>\n",
       "      <td>2023.0</td>\n",
       "      <td>dec</td>\n",
       "      <td>Andaman &amp; Nicobar Island</td>\n",
       "      <td>MAXI\\n\\n\\nCAB</td>\n",
       "      <td>Others</td>\n",
       "      <td>Others</td>\n",
       "      <td>0.0</td>\n",
       "      <td>12</td>\n",
       "    </tr>\n",
       "    <tr>\n",
       "      <th>96838</th>\n",
       "      <td>2023.0</td>\n",
       "      <td>dec</td>\n",
       "      <td>Andaman &amp; Nicobar Island</td>\n",
       "      <td>MOPED</td>\n",
       "      <td>2-Wheelers</td>\n",
       "      <td>2W_Personal</td>\n",
       "      <td>0.0</td>\n",
       "      <td>12</td>\n",
       "    </tr>\n",
       "    <tr>\n",
       "      <th>96842</th>\n",
       "      <td>2023.0</td>\n",
       "      <td>dec</td>\n",
       "      <td>Andaman &amp; Nicobar Island</td>\n",
       "      <td>OMNI\\n\\n\\nBUS</td>\n",
       "      <td>Bus</td>\n",
       "      <td>Bus</td>\n",
       "      <td>0.0</td>\n",
       "      <td>12</td>\n",
       "    </tr>\n",
       "    <tr>\n",
       "      <th>96843</th>\n",
       "      <td>2023.0</td>\n",
       "      <td>dec</td>\n",
       "      <td>Andaman &amp; Nicobar Island</td>\n",
       "      <td>THREE\\n\\n\\nWHEELER\\n\\n\\n(GOODS)</td>\n",
       "      <td>3-Wheelers</td>\n",
       "      <td>3W_Goods</td>\n",
       "      <td>0.0</td>\n",
       "      <td>12</td>\n",
       "    </tr>\n",
       "    <tr>\n",
       "      <th>96844</th>\n",
       "      <td>2023.0</td>\n",
       "      <td>dec</td>\n",
       "      <td>Andaman &amp; Nicobar Island</td>\n",
       "      <td>THREE\\n\\n\\nWHEELER\\n\\n\\n(PASSENGER)</td>\n",
       "      <td>3-Wheelers</td>\n",
       "      <td>3W_Shared</td>\n",
       "      <td>0.0</td>\n",
       "      <td>12</td>\n",
       "    </tr>\n",
       "  </tbody>\n",
       "</table>\n",
       "<p>82783 rows × 8 columns</p>\n",
       "</div>"
      ],
      "text/plain": [
       "         Year Month_Name                     State  \\\n",
       "0      2014.0        jan            Andhra Pradesh   \n",
       "1      2014.0        jan            Andhra Pradesh   \n",
       "2      2014.0        jan            Andhra Pradesh   \n",
       "3      2014.0        jan            Andhra Pradesh   \n",
       "4      2014.0        jan            Andhra Pradesh   \n",
       "...       ...        ...                       ...   \n",
       "96836  2023.0        dec  Andaman & Nicobar Island   \n",
       "96838  2023.0        dec  Andaman & Nicobar Island   \n",
       "96842  2023.0        dec  Andaman & Nicobar Island   \n",
       "96843  2023.0        dec  Andaman & Nicobar Island   \n",
       "96844  2023.0        dec  Andaman & Nicobar Island   \n",
       "\n",
       "                             Vehicle_Class Vehicle_Category Vehicle_Type  \\\n",
       "0                     ADAPTED\\n\\n\\nVEHICLE           Others       Others   \n",
       "1                AGRICULTURAL\\n\\n\\nTRACTOR           Others       Others   \n",
       "2                                AMBULANCE           Others       Others   \n",
       "3                 ARTICULATED\\n\\n\\nVEHICLE           Others       Others   \n",
       "4                                      BUS              Bus          Bus   \n",
       "...                                    ...              ...          ...   \n",
       "96836                        MAXI\\n\\n\\nCAB           Others       Others   \n",
       "96838                                MOPED       2-Wheelers  2W_Personal   \n",
       "96842                        OMNI\\n\\n\\nBUS              Bus          Bus   \n",
       "96843      THREE\\n\\n\\nWHEELER\\n\\n\\n(GOODS)       3-Wheelers     3W_Goods   \n",
       "96844  THREE\\n\\n\\nWHEELER\\n\\n\\n(PASSENGER)       3-Wheelers    3W_Shared   \n",
       "\n",
       "       EV_Sales_Quantity Day  \n",
       "0                    0.0   1  \n",
       "1                    0.0   1  \n",
       "2                    0.0   1  \n",
       "3                    0.0   1  \n",
       "4                    0.0   1  \n",
       "...                  ...  ..  \n",
       "96836                0.0  12  \n",
       "96838                0.0  12  \n",
       "96842                0.0  12  \n",
       "96843                0.0  12  \n",
       "96844                0.0  12  \n",
       "\n",
       "[82783 rows x 8 columns]"
      ]
     },
     "execution_count": 26,
     "metadata": {},
     "output_type": "execute_result"
    }
   ],
   "source": [
    "Electric_Vehicle_Data_zero_sales"
   ]
  },
  {
   "cell_type": "markdown",
   "id": "522eacac-0815-4c87-90b0-b845c6f72146",
   "metadata": {},
   "source": [
    "### Feature Engineering"
   ]
  },
  {
   "cell_type": "code",
   "execution_count": 27,
   "id": "931eda19-7151-4fe0-8ccd-910cb62fddeb",
   "metadata": {},
   "outputs": [],
   "source": [
    "Month_Name_dic={'jan':1,'feb':2,'mar':3,'apr':4,'may':5,'jun':6,'jul':7,'aug':8,'sep':9,'oct':10,'nov':11,'dec':12}\n",
    "non_zero_sales['Year']=[int(val) for val in non_zero_sales['Year']]\n",
    "non_zero_sales['EV_Sales_Quantity']=[int(val) for val in non_zero_sales['EV_Sales_Quantity']]\n",
    "non_zero_sales['Month_Name']=[Month_Name_dic[val] for val in non_zero_sales['Month_Name']]"
   ]
  },
  {
   "cell_type": "markdown",
   "id": "dde4cb36-b733-435a-a4df-7eacc60a1d01",
   "metadata": {},
   "source": [
    "**Histogram Plots for Each Column**"
   ]
  },
  {
   "cell_type": "code",
   "execution_count": 28,
   "id": "e4dd03a5-58dd-4e3a-81b3-11d98bfa4b66",
   "metadata": {},
   "outputs": [
    {
     "data": {
      "image/png": "[encoded data removed]",
      "text/plain": [
       "<Figure size 640x480 with 1 Axes>"
      ]
     },
     "metadata": {},
     "output_type": "display_data"
    }
   ],
   "source": [
    "\n",
    "sns.histplot(data=non_zero_sales, x=\"Year\",kde=True)\n",
    "plt.show()"
   ]
  },
  {
   "cell_type": "markdown",
   "id": "9c0c9c77-9bb7-4c29-9e96-cd7c247029e9",
   "metadata": {},
   "source": [
    "**Insights**\n",
    "1. There is a good sales from year 2021 to 2023\n",
    "2. Drastical decrease in sales in 2024"
   ]
  },
  {
   "cell_type": "code",
   "execution_count": 29,
   "id": "06aca9a9-5eea-4d45-a427-c5f0e529be6a",
   "metadata": {},
   "outputs": [
    {
     "data": {
      "image/png": "[encoded data removed]",
      "text/plain": [
       "<Figure size 640x480 with 1 Axes>"
      ]
     },
     "metadata": {},
     "output_type": "display_data"
    }
   ],
   "source": [
    "sns.histplot(data=non_zero_sales, x=\"Month_Name\",kde=True)\n",
    "plt.show()"
   ]
  },
  {
   "cell_type": "markdown",
   "id": "79bf8848-c0ce-4fe2-8781-622986affb2b",
   "metadata": {},
   "source": [
    "**Insights**\n",
    "- **Maximum sales are @ New Year time i.e January and December months.It seems customers wait for offers**"
   ]
  },
  {
   "cell_type": "code",
   "execution_count": 30,
   "id": "e5a8268b-66b4-483d-8c3a-5cc552cba223",
   "metadata": {},
   "outputs": [
    {
     "data": {
      "image/png": "[encoded data removed]",
      "text/plain": [
       "<Figure size 6000x1000 with 1 Axes>"
      ]
     },
     "metadata": {},
     "output_type": "display_data"
    }
   ],
   "source": [
    "plt.figure(figsize=(60,10))\n",
    "plt.xticks(fontweight=600,fontsize=12)\n",
    "sns.histplot(data=non_zero_sales, x=\"State\",kde=True)\n",
    "plt.show()"
   ]
  },
  {
   "cell_type": "code",
   "execution_count": 31,
   "id": "6e5fcc32-6269-4ce8-a08f-d5b8233776f3",
   "metadata": {},
   "outputs": [
    {
     "data": {
      "image/png": "[encoded data removed]",
      "text/plain": [
       "<Figure size 4000x1000 with 1 Axes>"
      ]
     },
     "metadata": {},
     "output_type": "display_data"
    }
   ],
   "source": [
    "plt.figure(figsize=(40,10))\n",
    "plt.xticks(fontsize=16)\n",
    "sns.histplot(data=non_zero_sales, x=\"Vehicle_Category\",kde=True)\n",
    "plt.show()"
   ]
  },
  {
   "cell_type": "code",
   "execution_count": 32,
   "id": "7ca2296a-dc73-4d5e-aa5a-26306c96fb48",
   "metadata": {},
   "outputs": [
    {
     "data": {
      "image/png": "[encoded data removed]",
      "text/plain": [
       "<Figure size 4000x1000 with 1 Axes>"
      ]
     },
     "metadata": {},
     "output_type": "display_data"
    }
   ],
   "source": [
    "plt.figure(figsize=(40,10))\n",
    "plt.xticks(fontsize=16)\n",
    "sns.histplot(data=non_zero_sales, x=\"Vehicle_Type\",kde=True)\n",
    "plt.show()"
   ]
  },
  {
   "cell_type": "code",
   "execution_count": 33,
   "id": "00123fe1-5999-4830-9874-c063287c845c",
   "metadata": {},
   "outputs": [
    {
     "data": {
      "image/png": "[encoded data removed]",
      "text/plain": [
       "<Figure size 4000x1000 with 1 Axes>"
      ]
     },
     "metadata": {},
     "output_type": "display_data"
    }
   ],
   "source": [
    "plt.figure(figsize=(40,10))\n",
    "plt.xticks(fontsize=16)\n",
    "sns.histplot(data=non_zero_sales, x=\"Day\",kde=True)\n",
    "plt.show()"
   ]
  },
  {
   "cell_type": "markdown",
   "id": "9303a2d2-bd0d-4cc7-bb48-060eb8c61736",
   "metadata": {},
   "source": [
    "### Electric_Vehicle with zeroSales"
   ]
  },
  {
   "cell_type": "code",
   "execution_count": 34,
   "id": "85c145eb-2fa5-4041-a337-ea54ae1aa027",
   "metadata": {},
   "outputs": [
    {
     "name": "stdout",
     "output_type": "stream",
     "text": [
      "['2W_Personal' '4W_Personal' 'Others' '3W_Shared' '4W_Shared'\n",
      " '3W_Shared_LowSpeed' 'Bus' '3W_Goods' '3W_Goods_LowSpeed' '3W_Personal'\n",
      " '2W_Shared']\n"
     ]
    }
   ],
   "source": [
    "print(non_zero_sales['Vehicle_Type'].unique())"
   ]
  },
  {
   "cell_type": "code",
   "execution_count": 35,
   "id": "4b8a140f-a19e-47cf-bc9e-bfd6c5455a68",
   "metadata": {},
   "outputs": [
    {
     "data": {
      "text/plain": [
       "Vehicle_Type\n",
       "2W_Personal           4314\n",
       "3W_Shared_LowSpeed    1854\n",
       "4W_Personal           1778\n",
       "3W_Goods_LowSpeed     1501\n",
       "3W_Shared             1346\n",
       "Others                1122\n",
       "3W_Goods               926\n",
       "4W_Shared              631\n",
       "Bus                    318\n",
       "3W_Personal            179\n",
       "2W_Shared               93\n",
       "Name: count, dtype: int64"
      ]
     },
     "execution_count": 35,
     "metadata": {},
     "output_type": "execute_result"
    }
   ],
   "source": [
    "non_zero_sales['Vehicle_Type'].value_counts()"
   ]
  },
  {
   "cell_type": "code",
   "execution_count": 36,
   "id": "a9360553-2dea-4bc6-9f88-c54cffdb7f47",
   "metadata": {},
   "outputs": [
    {
     "data": {
      "image/png": "[encoded data removed]",
      "text/plain": [
       "<Figure size 2000x500 with 1 Axes>"
      ]
     },
     "metadata": {},
     "output_type": "display_data"
    }
   ],
   "source": [
    "plt.figure(figsize=(20,5))\n",
    "plt.xticks(fontsize=12,fontweight=100)\n",
    "sns.barplot(x = 'Vehicle_Class', y = 'EV_Sales_Quantity', data = non_zero_sales.head(20))\n",
    "plt.show()"
   ]
  },
  {
   "cell_type": "markdown",
   "id": "881aef6a-3796-4432-840e-7d6075291263",
   "metadata": {},
   "source": [
    "**Maximum sales of Electric Vehicle**:\n",
    " - **M-CYCLE/SCOOTER**\n",
    "\n",
    "\n",
    "**Least Sales Of Electric Vehicle**: \n",
    "\n",
    " - **AGRICULTURE TRACTOR**\n",
    " - **FORKLIFT**\n",
    " - **THREE WHEELER**\n",
    " - **MOPED**\n",
    " - **MOTOR CAB**"
   ]
  },
  {
   "cell_type": "markdown",
   "id": "f1dd5f7d-32d7-4957-935c-e51f453f918e",
   "metadata": {},
   "source": [
    "**Suggestions**:\n",
    "1. More awareness regarding electric vehicles required in agriculture areas\n",
    "2. More benefits should be given to three wheelers to promote use of Battery Rickshaws\n",
    "3. Electric Cabs should be available in affordable rents in apps for rental cabs\n",
    "4. Need more promotion to aware people regarding benefits of Electric vehicles "
   ]
  },
  {
   "cell_type": "code",
   "execution_count": 37,
   "id": "5bf11e96-b493-437c-aa6c-b96ff372640c",
   "metadata": {},
   "outputs": [
    {
     "data": {
      "image/png": "[encoded data removed]",
      "text/plain": [
       "<Figure size 2000x500 with 1 Axes>"
      ]
     },
     "metadata": {},
     "output_type": "display_data"
    }
   ],
   "source": [
    "plt.figure(figsize=(20,5))\n",
    "plt.xticks(fontsize=12,fontweight=100)\n",
    "sns.barplot(x = 'State', y = 'EV_Sales_Quantity', data = non_zero_sales.head(20))\n",
    "plt.show()"
   ]
  },
  {
   "cell_type": "markdown",
   "id": "d69fd9f8-3156-4925-a998-065924532ecc",
   "metadata": {},
   "source": [
    "**Insights:**\n",
    "  - **Maximum Sales Areas :**\n",
    "    1. Maharashtra\n",
    "  - **Least Sales Areas:**\n",
    "  1. Andhra Pradesh\n",
    "  2. Delhi\n",
    "  3. Goa\n",
    "  4. HimachalPradesh\n",
    "  5. Haryana\n",
    "  6. Jharkhand\n",
    "  7. Kerala\n",
    "\n",
    " - **Neither more nor Least sales:**\n",
    "  1. Chattisgarh\n",
    "  2. Karnataka\n",
    "  3. Gujarat\n",
    "     \n",
    "**Suggesstions:**\n",
    "  - More Awaresness required in Least Sales Areas\n"
   ]
  },
  {
   "cell_type": "code",
   "execution_count": 38,
   "id": "29374464-eb52-4266-ad1a-15e1faab81c2",
   "metadata": {},
   "outputs": [
    {
     "data": {
      "text/html": [
       "<div>\n",
       "<style scoped>\n",
       "    .dataframe tbody tr th:only-of-type {\n",
       "        vertical-align: middle;\n",
       "    }\n",
       "\n",
       "    .dataframe tbody tr th {\n",
       "        vertical-align: top;\n",
       "    }\n",
       "\n",
       "    .dataframe thead th {\n",
       "        text-align: right;\n",
       "    }\n",
       "</style>\n",
       "<table border=\"1\" class=\"dataframe\">\n",
       "  <thead>\n",
       "    <tr style=\"text-align: right;\">\n",
       "      <th></th>\n",
       "      <th>Year</th>\n",
       "      <th>Month_Name</th>\n",
       "      <th>State</th>\n",
       "      <th>Vehicle_Class</th>\n",
       "      <th>Vehicle_Category</th>\n",
       "      <th>Vehicle_Type</th>\n",
       "      <th>EV_Sales_Quantity</th>\n",
       "      <th>Day</th>\n",
       "    </tr>\n",
       "  </thead>\n",
       "  <tbody>\n",
       "    <tr>\n",
       "      <th>13</th>\n",
       "      <td>2014</td>\n",
       "      <td>1</td>\n",
       "      <td>Andhra Pradesh</td>\n",
       "      <td>M-CYCLE/SCOOTER</td>\n",
       "      <td>2-Wheelers</td>\n",
       "      <td>2W_Personal</td>\n",
       "      <td>1</td>\n",
       "      <td>1</td>\n",
       "    </tr>\n",
       "    <tr>\n",
       "      <th>102</th>\n",
       "      <td>2014</td>\n",
       "      <td>1</td>\n",
       "      <td>Chhattisgarh</td>\n",
       "      <td>M-CYCLE/SCOOTER</td>\n",
       "      <td>2-Wheelers</td>\n",
       "      <td>2W_Personal</td>\n",
       "      <td>10</td>\n",
       "      <td>1</td>\n",
       "    </tr>\n",
       "    <tr>\n",
       "      <th>153</th>\n",
       "      <td>2014</td>\n",
       "      <td>1</td>\n",
       "      <td>Delhi</td>\n",
       "      <td>M-CYCLE/SCOOTER</td>\n",
       "      <td>2-Wheelers</td>\n",
       "      <td>2W_Personal</td>\n",
       "      <td>2</td>\n",
       "      <td>1</td>\n",
       "    </tr>\n",
       "    <tr>\n",
       "      <th>157</th>\n",
       "      <td>2014</td>\n",
       "      <td>1</td>\n",
       "      <td>Delhi</td>\n",
       "      <td>MOTOR\\n\\n\\nCAR</td>\n",
       "      <td>4-Wheelers</td>\n",
       "      <td>4W_Personal</td>\n",
       "      <td>5</td>\n",
       "      <td>1</td>\n",
       "    </tr>\n",
       "    <tr>\n",
       "      <th>173</th>\n",
       "      <td>2014</td>\n",
       "      <td>1</td>\n",
       "      <td>Goa</td>\n",
       "      <td>MOTOR\\n\\n\\nCAR</td>\n",
       "      <td>4-Wheelers</td>\n",
       "      <td>4W_Personal</td>\n",
       "      <td>1</td>\n",
       "      <td>1</td>\n",
       "    </tr>\n",
       "    <tr>\n",
       "      <th>...</th>\n",
       "      <td>...</td>\n",
       "      <td>...</td>\n",
       "      <td>...</td>\n",
       "      <td>...</td>\n",
       "      <td>...</td>\n",
       "      <td>...</td>\n",
       "      <td>...</td>\n",
       "      <td>...</td>\n",
       "    </tr>\n",
       "    <tr>\n",
       "      <th>96833</th>\n",
       "      <td>2023</td>\n",
       "      <td>12</td>\n",
       "      <td>Goa</td>\n",
       "      <td>THREE\\n\\n\\nWHEELER\\n\\n\\n(PERSONAL)</td>\n",
       "      <td>3-Wheelers</td>\n",
       "      <td>3W_Personal</td>\n",
       "      <td>1</td>\n",
       "      <td>12</td>\n",
       "    </tr>\n",
       "    <tr>\n",
       "      <th>96837</th>\n",
       "      <td>2023</td>\n",
       "      <td>12</td>\n",
       "      <td>Andaman &amp; Nicobar Island</td>\n",
       "      <td>M-CYCLE/SCOOTER</td>\n",
       "      <td>2-Wheelers</td>\n",
       "      <td>2W_Personal</td>\n",
       "      <td>2</td>\n",
       "      <td>12</td>\n",
       "    </tr>\n",
       "    <tr>\n",
       "      <th>96839</th>\n",
       "      <td>2023</td>\n",
       "      <td>12</td>\n",
       "      <td>Andaman &amp; Nicobar Island</td>\n",
       "      <td>MOTOR\\n\\n\\nCAB</td>\n",
       "      <td>4-Wheelers</td>\n",
       "      <td>4W_Shared</td>\n",
       "      <td>1</td>\n",
       "      <td>12</td>\n",
       "    </tr>\n",
       "    <tr>\n",
       "      <th>96840</th>\n",
       "      <td>2023</td>\n",
       "      <td>12</td>\n",
       "      <td>Andaman &amp; Nicobar Island</td>\n",
       "      <td>MOTOR\\n\\n\\nCAR</td>\n",
       "      <td>4-Wheelers</td>\n",
       "      <td>4W_Personal</td>\n",
       "      <td>1</td>\n",
       "      <td>12</td>\n",
       "    </tr>\n",
       "    <tr>\n",
       "      <th>96841</th>\n",
       "      <td>2023</td>\n",
       "      <td>12</td>\n",
       "      <td>Andaman &amp; Nicobar Island</td>\n",
       "      <td>MOTOR\\n\\n\\nCYCLE/SCOOTER-USED\\n\\n\\nFOR\\n\\n\\nHIRE</td>\n",
       "      <td>2-Wheelers</td>\n",
       "      <td>2W_Shared</td>\n",
       "      <td>5</td>\n",
       "      <td>12</td>\n",
       "    </tr>\n",
       "  </tbody>\n",
       "</table>\n",
       "<p>14062 rows × 8 columns</p>\n",
       "</div>"
      ],
      "text/plain": [
       "       Year  Month_Name                     State  \\\n",
       "13     2014           1            Andhra Pradesh   \n",
       "102    2014           1              Chhattisgarh   \n",
       "153    2014           1                     Delhi   \n",
       "157    2014           1                     Delhi   \n",
       "173    2014           1                       Goa   \n",
       "...     ...         ...                       ...   \n",
       "96833  2023          12                       Goa   \n",
       "96837  2023          12  Andaman & Nicobar Island   \n",
       "96839  2023          12  Andaman & Nicobar Island   \n",
       "96840  2023          12  Andaman & Nicobar Island   \n",
       "96841  2023          12  Andaman & Nicobar Island   \n",
       "\n",
       "                                          Vehicle_Class Vehicle_Category  \\\n",
       "13                                      M-CYCLE/SCOOTER       2-Wheelers   \n",
       "102                                     M-CYCLE/SCOOTER       2-Wheelers   \n",
       "153                                     M-CYCLE/SCOOTER       2-Wheelers   \n",
       "157                                      MOTOR\\n\\n\\nCAR       4-Wheelers   \n",
       "173                                      MOTOR\\n\\n\\nCAR       4-Wheelers   \n",
       "...                                                 ...              ...   \n",
       "96833                THREE\\n\\n\\nWHEELER\\n\\n\\n(PERSONAL)       3-Wheelers   \n",
       "96837                                   M-CYCLE/SCOOTER       2-Wheelers   \n",
       "96839                                    MOTOR\\n\\n\\nCAB       4-Wheelers   \n",
       "96840                                    MOTOR\\n\\n\\nCAR       4-Wheelers   \n",
       "96841  MOTOR\\n\\n\\nCYCLE/SCOOTER-USED\\n\\n\\nFOR\\n\\n\\nHIRE       2-Wheelers   \n",
       "\n",
       "      Vehicle_Type  EV_Sales_Quantity Day  \n",
       "13     2W_Personal                  1   1  \n",
       "102    2W_Personal                 10   1  \n",
       "153    2W_Personal                  2   1  \n",
       "157    4W_Personal                  5   1  \n",
       "173    4W_Personal                  1   1  \n",
       "...            ...                ...  ..  \n",
       "96833  3W_Personal                  1  12  \n",
       "96837  2W_Personal                  2  12  \n",
       "96839    4W_Shared                  1  12  \n",
       "96840  4W_Personal                  1  12  \n",
       "96841    2W_Shared                  5  12  \n",
       "\n",
       "[14062 rows x 8 columns]"
      ]
     },
     "execution_count": 38,
     "metadata": {},
     "output_type": "execute_result"
    }
   ],
   "source": [
    "non_zero_sales"
   ]
  },
  {
   "cell_type": "code",
   "execution_count": 39,
   "id": "3d5bb66f-9885-456d-a3a9-8334bfce0e9f",
   "metadata": {},
   "outputs": [
    {
     "name": "stdout",
     "output_type": "stream",
     "text": [
      "['Andhra Pradesh' 'Chhattisgarh' 'Delhi' 'Goa' 'Gujarat'\n",
      " 'Himachal Pradesh' 'Haryana' 'Jharkhand' 'Karnataka' 'Kerala'\n",
      " 'Maharashtra' 'Madhya Pradesh' 'Odisha' 'Punjab' 'Puducherry' 'Rajasthan'\n",
      " 'Tamil Nadu' 'Uttarakhand' 'Uttar Pradesh' 'West Bengal'\n",
      " 'Jammu and Kashmir' 'Assam' 'Bihar' 'Mizoram' 'Chandigarh' 'Manipur'\n",
      " 'DNH and DD' 'Nagaland' 'Tripura' 'Meghalaya' 'Andaman & Nicobar Island'\n",
      " 'Ladakh' 'Arunachal Pradesh' 'Sikkim']\n"
     ]
    }
   ],
   "source": [
    "## Unique States \n",
    "print(non_zero_sales['State'].unique())"
   ]
  },
  {
   "cell_type": "code",
   "execution_count": 40,
   "id": "868ad43f-5c4c-4d16-a9d4-5ae4ff286c8f",
   "metadata": {},
   "outputs": [],
   "source": [
    "#States Encoding\n",
    "States_dictionary={'Andhra Pradesh':0,'Chhattisgarh':1,'Delhi':2,'Goa':3,'Gujarat':4,'Himachal Pradesh':5,'Madhya Pradesh':6,\n",
    "                   'Odisha':7,'Punjab':8,'Puducherry':9,'Rajasthan':10,'Tamil Nadu':11,'Uttarakhand':12,'Uttar Pradesh':13,\n",
    "                   'West Bengal':14,'Jammu and Kashmir':15,'Assam':16,'Bihar':17,'Mizoram':18,'Chandigarh':19,'Manipur':20,\n",
    "                   'DNH and DD':21,'Nagaland':22,'Tripura':23,'Meghalaya':24,'Andaman & Nicobar Island':25,'Ladakh':26,'Arunachal Pradesh':28,'Sikkim':29,'others':100}"
   ]
  },
  {
   "cell_type": "code",
   "execution_count": 41,
   "id": "710675c7-5f13-44bb-8a14-5039a02f459d",
   "metadata": {},
   "outputs": [
    {
     "data": {
      "text/plain": [
       "dict_keys(['Andhra Pradesh', 'Chhattisgarh', 'Delhi', 'Goa', 'Gujarat', 'Himachal Pradesh', 'Madhya Pradesh', 'Odisha', 'Punjab', 'Puducherry', 'Rajasthan', 'Tamil Nadu', 'Uttarakhand', 'Uttar Pradesh', 'West Bengal', 'Jammu and Kashmir', 'Assam', 'Bihar', 'Mizoram', 'Chandigarh', 'Manipur', 'DNH and DD', 'Nagaland', 'Tripura', 'Meghalaya', 'Andaman & Nicobar Island', 'Ladakh', 'Arunachal Pradesh', 'Sikkim', 'others'])"
      ]
     },
     "execution_count": 41,
     "metadata": {},
     "output_type": "execute_result"
    }
   ],
   "source": [
    "States_dictionary.keys()"
   ]
  },
  {
   "cell_type": "code",
   "execution_count": 42,
   "id": "5345fa37-57de-4cf6-8448-7e51c2083ddb",
   "metadata": {},
   "outputs": [
    {
     "data": {
      "text/plain": [
       "13                 Andhra Pradesh\n",
       "102                  Chhattisgarh\n",
       "153                         Delhi\n",
       "157                         Delhi\n",
       "173                           Goa\n",
       "                   ...           \n",
       "96833                         Goa\n",
       "96837    Andaman & Nicobar Island\n",
       "96839    Andaman & Nicobar Island\n",
       "96840    Andaman & Nicobar Island\n",
       "96841    Andaman & Nicobar Island\n",
       "Name: State, Length: 14062, dtype: object"
      ]
     },
     "execution_count": 42,
     "metadata": {},
     "output_type": "execute_result"
    }
   ],
   "source": [
    "non_zero_sales['State']"
   ]
  },
  {
   "cell_type": "code",
   "execution_count": 43,
   "id": "474571ed-773d-4505-83ad-fe81f80b54e9",
   "metadata": {},
   "outputs": [],
   "source": [
    "non_zero_sales['State_encoded']=[States_dictionary[val] if val in States_dictionary.keys() else 100 for val in non_zero_sales['State']   ]"
   ]
  },
  {
   "cell_type": "code",
   "execution_count": 44,
   "id": "0608ab03-7005-425a-bfe0-c459623a988d",
   "metadata": {},
   "outputs": [
    {
     "data": {
      "text/plain": [
       "Year                 0\n",
       "Month_Name           0\n",
       "State                0\n",
       "Vehicle_Class        0\n",
       "Vehicle_Category     0\n",
       "Vehicle_Type         0\n",
       "EV_Sales_Quantity    0\n",
       "Day                  0\n",
       "State_encoded        0\n",
       "dtype: int64"
      ]
     },
     "execution_count": 44,
     "metadata": {},
     "output_type": "execute_result"
    }
   ],
   "source": [
    "non_zero_sales.isna().sum()"
   ]
  },
  {
   "cell_type": "code",
   "execution_count": 45,
   "id": "063d46b9-80aa-49b8-8284-1f1c054f4236",
   "metadata": {},
   "outputs": [
    {
     "data": {
      "text/html": [
       "<div>\n",
       "<style scoped>\n",
       "    .dataframe tbody tr th:only-of-type {\n",
       "        vertical-align: middle;\n",
       "    }\n",
       "\n",
       "    .dataframe tbody tr th {\n",
       "        vertical-align: top;\n",
       "    }\n",
       "\n",
       "    .dataframe thead th {\n",
       "        text-align: right;\n",
       "    }\n",
       "</style>\n",
       "<table border=\"1\" class=\"dataframe\">\n",
       "  <thead>\n",
       "    <tr style=\"text-align: right;\">\n",
       "      <th></th>\n",
       "      <th>Year</th>\n",
       "      <th>Month_Name</th>\n",
       "      <th>State</th>\n",
       "      <th>Vehicle_Class</th>\n",
       "      <th>Vehicle_Category</th>\n",
       "      <th>Vehicle_Type</th>\n",
       "      <th>EV_Sales_Quantity</th>\n",
       "      <th>Day</th>\n",
       "      <th>State_encoded</th>\n",
       "    </tr>\n",
       "  </thead>\n",
       "  <tbody>\n",
       "    <tr>\n",
       "      <th>13</th>\n",
       "      <td>2014</td>\n",
       "      <td>1</td>\n",
       "      <td>Andhra Pradesh</td>\n",
       "      <td>M-CYCLE/SCOOTER</td>\n",
       "      <td>2-Wheelers</td>\n",
       "      <td>2W_Personal</td>\n",
       "      <td>1</td>\n",
       "      <td>1</td>\n",
       "      <td>0</td>\n",
       "    </tr>\n",
       "    <tr>\n",
       "      <th>102</th>\n",
       "      <td>2014</td>\n",
       "      <td>1</td>\n",
       "      <td>Chhattisgarh</td>\n",
       "      <td>M-CYCLE/SCOOTER</td>\n",
       "      <td>2-Wheelers</td>\n",
       "      <td>2W_Personal</td>\n",
       "      <td>10</td>\n",
       "      <td>1</td>\n",
       "      <td>1</td>\n",
       "    </tr>\n",
       "    <tr>\n",
       "      <th>153</th>\n",
       "      <td>2014</td>\n",
       "      <td>1</td>\n",
       "      <td>Delhi</td>\n",
       "      <td>M-CYCLE/SCOOTER</td>\n",
       "      <td>2-Wheelers</td>\n",
       "      <td>2W_Personal</td>\n",
       "      <td>2</td>\n",
       "      <td>1</td>\n",
       "      <td>2</td>\n",
       "    </tr>\n",
       "    <tr>\n",
       "      <th>157</th>\n",
       "      <td>2014</td>\n",
       "      <td>1</td>\n",
       "      <td>Delhi</td>\n",
       "      <td>MOTOR\\n\\n\\nCAR</td>\n",
       "      <td>4-Wheelers</td>\n",
       "      <td>4W_Personal</td>\n",
       "      <td>5</td>\n",
       "      <td>1</td>\n",
       "      <td>2</td>\n",
       "    </tr>\n",
       "    <tr>\n",
       "      <th>173</th>\n",
       "      <td>2014</td>\n",
       "      <td>1</td>\n",
       "      <td>Goa</td>\n",
       "      <td>MOTOR\\n\\n\\nCAR</td>\n",
       "      <td>4-Wheelers</td>\n",
       "      <td>4W_Personal</td>\n",
       "      <td>1</td>\n",
       "      <td>1</td>\n",
       "      <td>3</td>\n",
       "    </tr>\n",
       "    <tr>\n",
       "      <th>...</th>\n",
       "      <td>...</td>\n",
       "      <td>...</td>\n",
       "      <td>...</td>\n",
       "      <td>...</td>\n",
       "      <td>...</td>\n",
       "      <td>...</td>\n",
       "      <td>...</td>\n",
       "      <td>...</td>\n",
       "      <td>...</td>\n",
       "    </tr>\n",
       "    <tr>\n",
       "      <th>96833</th>\n",
       "      <td>2023</td>\n",
       "      <td>12</td>\n",
       "      <td>Goa</td>\n",
       "      <td>THREE\\n\\n\\nWHEELER\\n\\n\\n(PERSONAL)</td>\n",
       "      <td>3-Wheelers</td>\n",
       "      <td>3W_Personal</td>\n",
       "      <td>1</td>\n",
       "      <td>12</td>\n",
       "      <td>3</td>\n",
       "    </tr>\n",
       "    <tr>\n",
       "      <th>96837</th>\n",
       "      <td>2023</td>\n",
       "      <td>12</td>\n",
       "      <td>Andaman &amp; Nicobar Island</td>\n",
       "      <td>M-CYCLE/SCOOTER</td>\n",
       "      <td>2-Wheelers</td>\n",
       "      <td>2W_Personal</td>\n",
       "      <td>2</td>\n",
       "      <td>12</td>\n",
       "      <td>25</td>\n",
       "    </tr>\n",
       "    <tr>\n",
       "      <th>96839</th>\n",
       "      <td>2023</td>\n",
       "      <td>12</td>\n",
       "      <td>Andaman &amp; Nicobar Island</td>\n",
       "      <td>MOTOR\\n\\n\\nCAB</td>\n",
       "      <td>4-Wheelers</td>\n",
       "      <td>4W_Shared</td>\n",
       "      <td>1</td>\n",
       "      <td>12</td>\n",
       "      <td>25</td>\n",
       "    </tr>\n",
       "    <tr>\n",
       "      <th>96840</th>\n",
       "      <td>2023</td>\n",
       "      <td>12</td>\n",
       "      <td>Andaman &amp; Nicobar Island</td>\n",
       "      <td>MOTOR\\n\\n\\nCAR</td>\n",
       "      <td>4-Wheelers</td>\n",
       "      <td>4W_Personal</td>\n",
       "      <td>1</td>\n",
       "      <td>12</td>\n",
       "      <td>25</td>\n",
       "    </tr>\n",
       "    <tr>\n",
       "      <th>96841</th>\n",
       "      <td>2023</td>\n",
       "      <td>12</td>\n",
       "      <td>Andaman &amp; Nicobar Island</td>\n",
       "      <td>MOTOR\\n\\n\\nCYCLE/SCOOTER-USED\\n\\n\\nFOR\\n\\n\\nHIRE</td>\n",
       "      <td>2-Wheelers</td>\n",
       "      <td>2W_Shared</td>\n",
       "      <td>5</td>\n",
       "      <td>12</td>\n",
       "      <td>25</td>\n",
       "    </tr>\n",
       "  </tbody>\n",
       "</table>\n",
       "<p>14062 rows × 9 columns</p>\n",
       "</div>"
      ],
      "text/plain": [
       "       Year  Month_Name                     State  \\\n",
       "13     2014           1            Andhra Pradesh   \n",
       "102    2014           1              Chhattisgarh   \n",
       "153    2014           1                     Delhi   \n",
       "157    2014           1                     Delhi   \n",
       "173    2014           1                       Goa   \n",
       "...     ...         ...                       ...   \n",
       "96833  2023          12                       Goa   \n",
       "96837  2023          12  Andaman & Nicobar Island   \n",
       "96839  2023          12  Andaman & Nicobar Island   \n",
       "96840  2023          12  Andaman & Nicobar Island   \n",
       "96841  2023          12  Andaman & Nicobar Island   \n",
       "\n",
       "                                          Vehicle_Class Vehicle_Category  \\\n",
       "13                                      M-CYCLE/SCOOTER       2-Wheelers   \n",
       "102                                     M-CYCLE/SCOOTER       2-Wheelers   \n",
       "153                                     M-CYCLE/SCOOTER       2-Wheelers   \n",
       "157                                      MOTOR\\n\\n\\nCAR       4-Wheelers   \n",
       "173                                      MOTOR\\n\\n\\nCAR       4-Wheelers   \n",
       "...                                                 ...              ...   \n",
       "96833                THREE\\n\\n\\nWHEELER\\n\\n\\n(PERSONAL)       3-Wheelers   \n",
       "96837                                   M-CYCLE/SCOOTER       2-Wheelers   \n",
       "96839                                    MOTOR\\n\\n\\nCAB       4-Wheelers   \n",
       "96840                                    MOTOR\\n\\n\\nCAR       4-Wheelers   \n",
       "96841  MOTOR\\n\\n\\nCYCLE/SCOOTER-USED\\n\\n\\nFOR\\n\\n\\nHIRE       2-Wheelers   \n",
       "\n",
       "      Vehicle_Type  EV_Sales_Quantity Day  State_encoded  \n",
       "13     2W_Personal                  1   1              0  \n",
       "102    2W_Personal                 10   1              1  \n",
       "153    2W_Personal                  2   1              2  \n",
       "157    4W_Personal                  5   1              2  \n",
       "173    4W_Personal                  1   1              3  \n",
       "...            ...                ...  ..            ...  \n",
       "96833  3W_Personal                  1  12              3  \n",
       "96837  2W_Personal                  2  12             25  \n",
       "96839    4W_Shared                  1  12             25  \n",
       "96840  4W_Personal                  1  12             25  \n",
       "96841    2W_Shared                  5  12             25  \n",
       "\n",
       "[14062 rows x 9 columns]"
      ]
     },
     "execution_count": 45,
     "metadata": {},
     "output_type": "execute_result"
    }
   ],
   "source": [
    "non_zero_sales"
   ]
  },
  {
   "cell_type": "markdown",
   "id": "e7d0d7eb-640e-47d1-a84c-f1d32fabe9cf",
   "metadata": {},
   "source": [
    "- State is encoded so now dropping state column\n",
    "- **For my model i have selected two features**\n",
    "- State_encoded and EV_Sales_Quantity\n",
    "**Because we need to predict Sales by state in India so removing Unnecessary column**\n"
   ]
  },
  {
   "cell_type": "code",
   "execution_count": 46,
   "id": "3669ef63-601f-4087-a17b-2d2288f36911",
   "metadata": {},
   "outputs": [],
   "source": [
    "non_zero_sales=non_zero_sales.drop(['State','Vehicle_Class','Vehicle_Category','Vehicle_Type','Month_Name','Year','Day'],axis=1)"
   ]
  },
  {
   "cell_type": "code",
   "execution_count": 47,
   "id": "fa8ccc86-b2d7-42cd-be17-432e6515effc",
   "metadata": {},
   "outputs": [
    {
     "data": {
      "text/html": [
       "<div>\n",
       "<style scoped>\n",
       "    .dataframe tbody tr th:only-of-type {\n",
       "        vertical-align: middle;\n",
       "    }\n",
       "\n",
       "    .dataframe tbody tr th {\n",
       "        vertical-align: top;\n",
       "    }\n",
       "\n",
       "    .dataframe thead th {\n",
       "        text-align: right;\n",
       "    }\n",
       "</style>\n",
       "<table border=\"1\" class=\"dataframe\">\n",
       "  <thead>\n",
       "    <tr style=\"text-align: right;\">\n",
       "      <th></th>\n",
       "      <th>EV_Sales_Quantity</th>\n",
       "      <th>State_encoded</th>\n",
       "    </tr>\n",
       "  </thead>\n",
       "  <tbody>\n",
       "    <tr>\n",
       "      <th>13</th>\n",
       "      <td>1</td>\n",
       "      <td>0</td>\n",
       "    </tr>\n",
       "    <tr>\n",
       "      <th>102</th>\n",
       "      <td>10</td>\n",
       "      <td>1</td>\n",
       "    </tr>\n",
       "    <tr>\n",
       "      <th>153</th>\n",
       "      <td>2</td>\n",
       "      <td>2</td>\n",
       "    </tr>\n",
       "    <tr>\n",
       "      <th>157</th>\n",
       "      <td>5</td>\n",
       "      <td>2</td>\n",
       "    </tr>\n",
       "    <tr>\n",
       "      <th>173</th>\n",
       "      <td>1</td>\n",
       "      <td>3</td>\n",
       "    </tr>\n",
       "    <tr>\n",
       "      <th>...</th>\n",
       "      <td>...</td>\n",
       "      <td>...</td>\n",
       "    </tr>\n",
       "    <tr>\n",
       "      <th>96833</th>\n",
       "      <td>1</td>\n",
       "      <td>3</td>\n",
       "    </tr>\n",
       "    <tr>\n",
       "      <th>96837</th>\n",
       "      <td>2</td>\n",
       "      <td>25</td>\n",
       "    </tr>\n",
       "    <tr>\n",
       "      <th>96839</th>\n",
       "      <td>1</td>\n",
       "      <td>25</td>\n",
       "    </tr>\n",
       "    <tr>\n",
       "      <th>96840</th>\n",
       "      <td>1</td>\n",
       "      <td>25</td>\n",
       "    </tr>\n",
       "    <tr>\n",
       "      <th>96841</th>\n",
       "      <td>5</td>\n",
       "      <td>25</td>\n",
       "    </tr>\n",
       "  </tbody>\n",
       "</table>\n",
       "<p>14062 rows × 2 columns</p>\n",
       "</div>"
      ],
      "text/plain": [
       "       EV_Sales_Quantity  State_encoded\n",
       "13                     1              0\n",
       "102                   10              1\n",
       "153                    2              2\n",
       "157                    5              2\n",
       "173                    1              3\n",
       "...                  ...            ...\n",
       "96833                  1              3\n",
       "96837                  2             25\n",
       "96839                  1             25\n",
       "96840                  1             25\n",
       "96841                  5             25\n",
       "\n",
       "[14062 rows x 2 columns]"
      ]
     },
     "execution_count": 47,
     "metadata": {},
     "output_type": "execute_result"
    }
   ],
   "source": [
    "non_zero_sales"
   ]
  },
  {
   "cell_type": "markdown",
   "id": "8107e6a2-6a4e-4c3d-bbe2-9ca58032ca96",
   "metadata": {},
   "source": [
    "**State encoded as per state dictionary created above**"
   ]
  },
  {
   "cell_type": "markdown",
   "id": "80a100ad-9b19-4f08-bae3-aed7e16ce2ea",
   "metadata": {},
   "source": [
    "**Model_Trainer**"
   ]
  },
  {
   "cell_type": "markdown",
   "id": "51a67298-336e-4294-bfe1-050a0e19b68e",
   "metadata": {},
   "source": [
    "**Use a regression model (e.g., Random Forest Regressor) to predict EV sales.**"
   ]
  },
  {
   "cell_type": "code",
   "execution_count": 48,
   "id": "af07c353-e3f4-4d10-9e96-038123294b97",
   "metadata": {},
   "outputs": [],
   "source": [
    "from sklearn.ensemble import RandomForestRegressor\n",
    "from sklearn.metrics import  mean_squared_error,r2_score\n",
    "from sklearn.model_selection import train_test_split"
   ]
  },
  {
   "cell_type": "code",
   "execution_count": 49,
   "id": "9b59b98d-f153-4af7-94c7-fe12017efeb3",
   "metadata": {},
   "outputs": [
    {
     "name": "stdout",
     "output_type": "stream",
     "text": [
      "(7031, 2)\n",
      "(7031, 2)\n"
     ]
    }
   ],
   "source": [
    "X,y=train_test_split(non_zero_sales,test_size=0.5,random_state=42)\n",
    "print(X.shape)\n",
    "print(y.shape)"
   ]
  },
  {
   "cell_type": "code",
   "execution_count": 50,
   "id": "83e9d3e5-f482-40f5-b672-ec6c6f212123",
   "metadata": {},
   "outputs": [],
   "source": [
    "X_train, X_test, y_train, y_test = train_test_split(X, y,test_size=0.2, random_state=42)"
   ]
  },
  {
   "cell_type": "code",
   "execution_count": 55,
   "id": "7b513e52-4996-4f89-8825-7277525c2acf",
   "metadata": {},
   "outputs": [
    {
     "data": {
      "text/html": [
       "<style>#sk-container-id-1 {\n",
       "  /* Definition of color scheme common for light and dark mode */\n",
       "  --sklearn-color-text: #000;\n",
       "  --sklearn-color-text-muted: #666;\n",
       "  --sklearn-color-line: gray;\n",
       "  /* Definition of color scheme for unfitted estimators */\n",
       "  --sklearn-color-unfitted-level-0: #fff5e6;\n",
       "  --sklearn-color-unfitted-level-1: #f6e4d2;\n",
       "  --sklearn-color-unfitted-level-2: #ffe0b3;\n",
       "  --sklearn-color-unfitted-level-3: chocolate;\n",
       "  /* Definition of color scheme for fitted estimators */\n",
       "  --sklearn-color-fitted-level-0: #f0f8ff;\n",
       "  --sklearn-color-fitted-level-1: #d4ebff;\n",
       "  --sklearn-color-fitted-level-2: #b3dbfd;\n",
       "  --sklearn-color-fitted-level-3: cornflowerblue;\n",
       "\n",
       "  /* Specific color for light theme */\n",
       "  --sklearn-color-text-on-default-background: var(--sg-text-color, var(--theme-code-foreground, var(--jp-content-font-color1, black)));\n",
       "  --sklearn-color-background: var(--sg-background-color, var(--theme-background, var(--jp-layout-color0, white)));\n",
       "  --sklearn-color-border-box: var(--sg-text-color, var(--theme-code-foreground, var(--jp-content-font-color1, black)));\n",
       "  --sklearn-color-icon: #696969;\n",
       "\n",
       "  @media (prefers-color-scheme: dark) {\n",
       "    /* Redefinition of color scheme for dark theme */\n",
       "    --sklearn-color-text-on-default-background: var(--sg-text-color, var(--theme-code-foreground, var(--jp-content-font-color1, white)));\n",
       "    --sklearn-color-background: var(--sg-background-color, var(--theme-background, var(--jp-layout-color0, #111)));\n",
       "    --sklearn-color-border-box: var(--sg-text-color, var(--theme-code-foreground, var(--jp-content-font-color1, white)));\n",
       "    --sklearn-color-icon: #878787;\n",
       "  }\n",
       "}\n",
       "\n",
       "#sk-container-id-1 {\n",
       "  color: var(--sklearn-color-text);\n",
       "}\n",
       "\n",
       "#sk-container-id-1 pre {\n",
       "  padding: 0;\n",
       "}\n",
       "\n",
       "#sk-container-id-1 input.sk-hidden--visually {\n",
       "  border: 0;\n",
       "  clip: rect(1px 1px 1px 1px);\n",
       "  clip: rect(1px, 1px, 1px, 1px);\n",
       "  height: 1px;\n",
       "  margin: -1px;\n",
       "  overflow: hidden;\n",
       "  padding: 0;\n",
       "  position: absolute;\n",
       "  width: 1px;\n",
       "}\n",
       "\n",
       "#sk-container-id-1 div.sk-dashed-wrapped {\n",
       "  border: 1px dashed var(--sklearn-color-line);\n",
       "  margin: 0 0.4em 0.5em 0.4em;\n",
       "  box-sizing: border-box;\n",
       "  padding-bottom: 0.4em;\n",
       "  background-color: var(--sklearn-color-background);\n",
       "}\n",
       "\n",
       "#sk-container-id-1 div.sk-container {\n",
       "  /* jupyter's `normalize.less` sets `[hidden] { display: none; }`\n",
       "     but bootstrap.min.css set `[hidden] { display: none !important; }`\n",
       "     so we also need the `!important` here to be able to override the\n",
       "     default hidden behavior on the sphinx rendered scikit-learn.org.\n",
       "     See: https://github.com/scikit-learn/scikit-learn/issues/21755 */\n",
       "  display: inline-block !important;\n",
       "  position: relative;\n",
       "}\n",
       "\n",
       "#sk-container-id-1 div.sk-text-repr-fallback {\n",
       "  display: none;\n",
       "}\n",
       "\n",
       "div.sk-parallel-item,\n",
       "div.sk-serial,\n",
       "div.sk-item {\n",
       "  /* draw centered vertical line to link estimators */\n",
       "  background-image: linear-gradient(var(--sklearn-color-text-on-default-background), var(--sklearn-color-text-on-default-background));\n",
       "  background-size: 2px 100%;\n",
       "  background-repeat: no-repeat;\n",
       "  background-position: center center;\n",
       "}\n",
       "\n",
       "/* Parallel-specific style estimator block */\n",
       "\n",
       "#sk-container-id-1 div.sk-parallel-item::after {\n",
       "  content: \"\";\n",
       "  width: 100%;\n",
       "  border-bottom: 2px solid var(--sklearn-color-text-on-default-background);\n",
       "  flex-grow: 1;\n",
       "}\n",
       "\n",
       "#sk-container-id-1 div.sk-parallel {\n",
       "  display: flex;\n",
       "  align-items: stretch;\n",
       "  justify-content: center;\n",
       "  background-color: var(--sklearn-color-background);\n",
       "  position: relative;\n",
       "}\n",
       "\n",
       "#sk-container-id-1 div.sk-parallel-item {\n",
       "  display: flex;\n",
       "  flex-direction: column;\n",
       "}\n",
       "\n",
       "#sk-container-id-1 div.sk-parallel-item:first-child::after {\n",
       "  align-self: flex-end;\n",
       "  width: 50%;\n",
       "}\n",
       "\n",
       "#sk-container-id-1 div.sk-parallel-item:last-child::after {\n",
       "  align-self: flex-start;\n",
       "  width: 50%;\n",
       "}\n",
       "\n",
       "#sk-container-id-1 div.sk-parallel-item:only-child::after {\n",
       "  width: 0;\n",
       "}\n",
       "\n",
       "/* Serial-specific style estimator block */\n",
       "\n",
       "#sk-container-id-1 div.sk-serial {\n",
       "  display: flex;\n",
       "  flex-direction: column;\n",
       "  align-items: center;\n",
       "  background-color: var(--sklearn-color-background);\n",
       "  padding-right: 1em;\n",
       "  padding-left: 1em;\n",
       "}\n",
       "\n",
       "\n",
       "/* Toggleable style: style used for estimator/Pipeline/ColumnTransformer box that is\n",
       "clickable and can be expanded/collapsed.\n",
       "- Pipeline and ColumnTransformer use this feature and define the default style\n",
       "- Estimators will overwrite some part of the style using the `sk-estimator` class\n",
       "*/\n",
       "\n",
       "/* Pipeline and ColumnTransformer style (default) */\n",
       "\n",
       "#sk-container-id-1 div.sk-toggleable {\n",
       "  /* Default theme specific background. It is overwritten whether we have a\n",
       "  specific estimator or a Pipeline/ColumnTransformer */\n",
       "  background-color: var(--sklearn-color-background);\n",
       "}\n",
       "\n",
       "/* Toggleable label */\n",
       "#sk-container-id-1 label.sk-toggleable__label {\n",
       "  cursor: pointer;\n",
       "  display: flex;\n",
       "  width: 100%;\n",
       "  margin-bottom: 0;\n",
       "  padding: 0.5em;\n",
       "  box-sizing: border-box;\n",
       "  text-align: center;\n",
       "  align-items: start;\n",
       "  justify-content: space-between;\n",
       "  gap: 0.5em;\n",
       "}\n",
       "\n",
       "#sk-container-id-1 label.sk-toggleable__label .caption {\n",
       "  font-size: 0.6rem;\n",
       "  font-weight: lighter;\n",
       "  color: var(--sklearn-color-text-muted);\n",
       "}\n",
       "\n",
       "#sk-container-id-1 label.sk-toggleable__label-arrow:before {\n",
       "  /* Arrow on the left of the label */\n",
       "  content: \"▸\";\n",
       "  float: left;\n",
       "  margin-right: 0.25em;\n",
       "  color: var(--sklearn-color-icon);\n",
       "}\n",
       "\n",
       "#sk-container-id-1 label.sk-toggleable__label-arrow:hover:before {\n",
       "  color: var(--sklearn-color-text);\n",
       "}\n",
       "\n",
       "/* Toggleable content - dropdown */\n",
       "\n",
       "#sk-container-id-1 div.sk-toggleable__content {\n",
       "  max-height: 0;\n",
       "  max-width: 0;\n",
       "  overflow: hidden;\n",
       "  text-align: left;\n",
       "  /* unfitted */\n",
       "  background-color: var(--sklearn-color-unfitted-level-0);\n",
       "}\n",
       "\n",
       "#sk-container-id-1 div.sk-toggleable__content.fitted {\n",
       "  /* fitted */\n",
       "  background-color: var(--sklearn-color-fitted-level-0);\n",
       "}\n",
       "\n",
       "#sk-container-id-1 div.sk-toggleable__content pre {\n",
       "  margin: 0.2em;\n",
       "  border-radius: 0.25em;\n",
       "  color: var(--sklearn-color-text);\n",
       "  /* unfitted */\n",
       "  background-color: var(--sklearn-color-unfitted-level-0);\n",
       "}\n",
       "\n",
       "#sk-container-id-1 div.sk-toggleable__content.fitted pre {\n",
       "  /* unfitted */\n",
       "  background-color: var(--sklearn-color-fitted-level-0);\n",
       "}\n",
       "\n",
       "#sk-container-id-1 input.sk-toggleable__control:checked~div.sk-toggleable__content {\n",
       "  /* Expand drop-down */\n",
       "  max-height: 200px;\n",
       "  max-width: 100%;\n",
       "  overflow: auto;\n",
       "}\n",
       "\n",
       "#sk-container-id-1 input.sk-toggleable__control:checked~label.sk-toggleable__label-arrow:before {\n",
       "  content: \"▾\";\n",
       "}\n",
       "\n",
       "/* Pipeline/ColumnTransformer-specific style */\n",
       "\n",
       "#sk-container-id-1 div.sk-label input.sk-toggleable__control:checked~label.sk-toggleable__label {\n",
       "  color: var(--sklearn-color-text);\n",
       "  background-color: var(--sklearn-color-unfitted-level-2);\n",
       "}\n",
       "\n",
       "#sk-container-id-1 div.sk-label.fitted input.sk-toggleable__control:checked~label.sk-toggleable__label {\n",
       "  background-color: var(--sklearn-color-fitted-level-2);\n",
       "}\n",
       "\n",
       "/* Estimator-specific style */\n",
       "\n",
       "/* Colorize estimator box */\n",
       "#sk-container-id-1 div.sk-estimator input.sk-toggleable__control:checked~label.sk-toggleable__label {\n",
       "  /* unfitted */\n",
       "  background-color: var(--sklearn-color-unfitted-level-2);\n",
       "}\n",
       "\n",
       "#sk-container-id-1 div.sk-estimator.fitted input.sk-toggleable__control:checked~label.sk-toggleable__label {\n",
       "  /* fitted */\n",
       "  background-color: var(--sklearn-color-fitted-level-2);\n",
       "}\n",
       "\n",
       "#sk-container-id-1 div.sk-label label.sk-toggleable__label,\n",
       "#sk-container-id-1 div.sk-label label {\n",
       "  /* The background is the default theme color */\n",
       "  color: var(--sklearn-color-text-on-default-background);\n",
       "}\n",
       "\n",
       "/* On hover, darken the color of the background */\n",
       "#sk-container-id-1 div.sk-label:hover label.sk-toggleable__label {\n",
       "  color: var(--sklearn-color-text);\n",
       "  background-color: var(--sklearn-color-unfitted-level-2);\n",
       "}\n",
       "\n",
       "/* Label box, darken color on hover, fitted */\n",
       "#sk-container-id-1 div.sk-label.fitted:hover label.sk-toggleable__label.fitted {\n",
       "  color: var(--sklearn-color-text);\n",
       "  background-color: var(--sklearn-color-fitted-level-2);\n",
       "}\n",
       "\n",
       "/* Estimator label */\n",
       "\n",
       "#sk-container-id-1 div.sk-label label {\n",
       "  font-family: monospace;\n",
       "  font-weight: bold;\n",
       "  display: inline-block;\n",
       "  line-height: 1.2em;\n",
       "}\n",
       "\n",
       "#sk-container-id-1 div.sk-label-container {\n",
       "  text-align: center;\n",
       "}\n",
       "\n",
       "/* Estimator-specific */\n",
       "#sk-container-id-1 div.sk-estimator {\n",
       "  font-family: monospace;\n",
       "  border: 1px dotted var(--sklearn-color-border-box);\n",
       "  border-radius: 0.25em;\n",
       "  box-sizing: border-box;\n",
       "  margin-bottom: 0.5em;\n",
       "  /* unfitted */\n",
       "  background-color: var(--sklearn-color-unfitted-level-0);\n",
       "}\n",
       "\n",
       "#sk-container-id-1 div.sk-estimator.fitted {\n",
       "  /* fitted */\n",
       "  background-color: var(--sklearn-color-fitted-level-0);\n",
       "}\n",
       "\n",
       "/* on hover */\n",
       "#sk-container-id-1 div.sk-estimator:hover {\n",
       "  /* unfitted */\n",
       "  background-color: var(--sklearn-color-unfitted-level-2);\n",
       "}\n",
       "\n",
       "#sk-container-id-1 div.sk-estimator.fitted:hover {\n",
       "  /* fitted */\n",
       "  background-color: var(--sklearn-color-fitted-level-2);\n",
       "}\n",
       "\n",
       "/* Specification for estimator info (e.g. \"i\" and \"?\") */\n",
       "\n",
       "/* Common style for \"i\" and \"?\" */\n",
       "\n",
       ".sk-estimator-doc-link,\n",
       "a:link.sk-estimator-doc-link,\n",
       "a:visited.sk-estimator-doc-link {\n",
       "  float: right;\n",
       "  font-size: smaller;\n",
       "  line-height: 1em;\n",
       "  font-family: monospace;\n",
       "  background-color: var(--sklearn-color-background);\n",
       "  border-radius: 1em;\n",
       "  height: 1em;\n",
       "  width: 1em;\n",
       "  text-decoration: none !important;\n",
       "  margin-left: 0.5em;\n",
       "  text-align: center;\n",
       "  /* unfitted */\n",
       "  border: var(--sklearn-color-unfitted-level-1) 1pt solid;\n",
       "  color: var(--sklearn-color-unfitted-level-1);\n",
       "}\n",
       "\n",
       ".sk-estimator-doc-link.fitted,\n",
       "a:link.sk-estimator-doc-link.fitted,\n",
       "a:visited.sk-estimator-doc-link.fitted {\n",
       "  /* fitted */\n",
       "  border: var(--sklearn-color-fitted-level-1) 1pt solid;\n",
       "  color: var(--sklearn-color-fitted-level-1);\n",
       "}\n",
       "\n",
       "/* On hover */\n",
       "div.sk-estimator:hover .sk-estimator-doc-link:hover,\n",
       ".sk-estimator-doc-link:hover,\n",
       "div.sk-label-container:hover .sk-estimator-doc-link:hover,\n",
       ".sk-estimator-doc-link:hover {\n",
       "  /* unfitted */\n",
       "  background-color: var(--sklearn-color-unfitted-level-3);\n",
       "  color: var(--sklearn-color-background);\n",
       "  text-decoration: none;\n",
       "}\n",
       "\n",
       "div.sk-estimator.fitted:hover .sk-estimator-doc-link.fitted:hover,\n",
       ".sk-estimator-doc-link.fitted:hover,\n",
       "div.sk-label-container:hover .sk-estimator-doc-link.fitted:hover,\n",
       ".sk-estimator-doc-link.fitted:hover {\n",
       "  /* fitted */\n",
       "  background-color: var(--sklearn-color-fitted-level-3);\n",
       "  color: var(--sklearn-color-background);\n",
       "  text-decoration: none;\n",
       "}\n",
       "\n",
       "/* Span, style for the box shown on hovering the info icon */\n",
       ".sk-estimator-doc-link span {\n",
       "  display: none;\n",
       "  z-index: 9999;\n",
       "  position: relative;\n",
       "  font-weight: normal;\n",
       "  right: .2ex;\n",
       "  padding: .5ex;\n",
       "  margin: .5ex;\n",
       "  width: min-content;\n",
       "  min-width: 20ex;\n",
       "  max-width: 50ex;\n",
       "  color: var(--sklearn-color-text);\n",
       "  box-shadow: 2pt 2pt 4pt #999;\n",
       "  /* unfitted */\n",
       "  background: var(--sklearn-color-unfitted-level-0);\n",
       "  border: .5pt solid var(--sklearn-color-unfitted-level-3);\n",
       "}\n",
       "\n",
       ".sk-estimator-doc-link.fitted span {\n",
       "  /* fitted */\n",
       "  background: var(--sklearn-color-fitted-level-0);\n",
       "  border: var(--sklearn-color-fitted-level-3);\n",
       "}\n",
       "\n",
       ".sk-estimator-doc-link:hover span {\n",
       "  display: block;\n",
       "}\n",
       "\n",
       "/* \"?\"-specific style due to the `<a>` HTML tag */\n",
       "\n",
       "#sk-container-id-1 a.estimator_doc_link {\n",
       "  float: right;\n",
       "  font-size: 1rem;\n",
       "  line-height: 1em;\n",
       "  font-family: monospace;\n",
       "  background-color: var(--sklearn-color-background);\n",
       "  border-radius: 1rem;\n",
       "  height: 1rem;\n",
       "  width: 1rem;\n",
       "  text-decoration: none;\n",
       "  /* unfitted */\n",
       "  color: var(--sklearn-color-unfitted-level-1);\n",
       "  border: var(--sklearn-color-unfitted-level-1) 1pt solid;\n",
       "}\n",
       "\n",
       "#sk-container-id-1 a.estimator_doc_link.fitted {\n",
       "  /* fitted */\n",
       "  border: var(--sklearn-color-fitted-level-1) 1pt solid;\n",
       "  color: var(--sklearn-color-fitted-level-1);\n",
       "}\n",
       "\n",
       "/* On hover */\n",
       "#sk-container-id-1 a.estimator_doc_link:hover {\n",
       "  /* unfitted */\n",
       "  background-color: var(--sklearn-color-unfitted-level-3);\n",
       "  color: var(--sklearn-color-background);\n",
       "  text-decoration: none;\n",
       "}\n",
       "\n",
       "#sk-container-id-1 a.estimator_doc_link.fitted:hover {\n",
       "  /* fitted */\n",
       "  background-color: var(--sklearn-color-fitted-level-3);\n",
       "}\n",
       "</style><div id=\"sk-container-id-1\" class=\"sk-top-container\"><div class=\"sk-text-repr-fallback\"><pre>RandomForestRegressor(n_estimators=10, random_state=42)</pre><b>In a Jupyter environment, please rerun this cell to show the HTML representation or trust the notebook. <br />On GitHub, the HTML representation is unable to render, please try loading this page with nbviewer.org.</b></div><div class=\"sk-container\" hidden><div class=\"sk-item\"><div class=\"sk-estimator fitted sk-toggleable\"><input class=\"sk-toggleable__control sk-hidden--visually\" id=\"sk-estimator-id-1\" type=\"checkbox\" checked><label for=\"sk-estimator-id-1\" class=\"sk-toggleable__label fitted sk-toggleable__label-arrow\"><div><div>RandomForestRegressor</div></div><div><a class=\"sk-estimator-doc-link fitted\" rel=\"noreferrer\" target=\"_blank\" href=\"https://scikit-learn.org/1.6/modules/generated/sklearn.ensemble.RandomForestRegressor.html\">?<span>Documentation for RandomForestRegressor</span></a><span class=\"sk-estimator-doc-link fitted\">i<span>Fitted</span></span></div></label><div class=\"sk-toggleable__content fitted\"><pre>RandomForestRegressor(n_estimators=10, random_state=42)</pre></div> </div></div></div></div>"
      ],
      "text/plain": [
       "RandomForestRegressor(n_estimators=10, random_state=42)"
      ]
     },
     "execution_count": 55,
     "metadata": {},
     "output_type": "execute_result"
    }
   ],
   "source": [
    "# Instantiate the model\n",
    "model = RandomForestRegressor(n_estimators=10,random_state=42)\n",
    "model.fit(X_train,y_train)"
   ]
  },
  {
   "cell_type": "code",
   "execution_count": 57,
   "id": "9ee57c21-0647-4537-a380-b8d9e266f24a",
   "metadata": {},
   "outputs": [],
   "source": [
    "# Make predictions\n",
    "y_pred = model.predict(X_test)"
   ]
  },
  {
   "cell_type": "code",
   "execution_count": 58,
   "id": "516e47d0-3c67-41ab-be56-59034026bdd3",
   "metadata": {},
   "outputs": [],
   "source": [
    "# Evaluate the model\n",
    "mse = mean_squared_error(y_test, y_test)\n",
    "r2=  r2_score(y_test,y_test)"
   ]
  },
  {
   "cell_type": "code",
   "execution_count": 59,
   "id": "22bbb942-e576-4b7e-b0b0-4c5e440ccbdb",
   "metadata": {},
   "outputs": [
    {
     "data": {
      "text/plain": [
       "0.0"
      ]
     },
     "execution_count": 59,
     "metadata": {},
     "output_type": "execute_result"
    }
   ],
   "source": [
    "mse"
   ]
  },
  {
   "cell_type": "code",
   "execution_count": 60,
   "id": "da1b0947-2ae1-4092-92d0-b90d411a7a07",
   "metadata": {},
   "outputs": [
    {
     "data": {
      "text/plain": [
       "1.0"
      ]
     },
     "execution_count": 60,
     "metadata": {},
     "output_type": "execute_result"
    }
   ],
   "source": [
    "r2"
   ]
  },
  {
   "cell_type": "code",
   "execution_count": null,
   "id": "faeb9145-45f2-44d7-ad79-9ec20b440d27",
   "metadata": {},
   "outputs": [],
   "source": []
  }
 ],
 "metadata": {
  "kernelspec": {
   "display_name": "Python 3 (ipykernel)",
   "language": "python",
   "name": "python3"
  },
  "language_info": {
   "codemirror_mode": {
    "name": "ipython",
    "version": 3
   },
   "file_extension": ".py",
   "mimetype": "text/x-python",
   "name": "python",
   "nbconvert_exporter": "python",
   "pygments_lexer": "ipython3",
   "version": "3.12.7"
  }
 },
 "nbformat": 4,
 "nbformat_minor": 5
}
