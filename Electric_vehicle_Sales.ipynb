{
 "cells": [
  {
   "cell_type": "markdown",
   "id": "f621fa32-adae-439e-ac57-df6d40737719",
   "metadata": {},
   "source": [
    "# Electric Vehicle Sales By State In India"
   ]
  },
  {
   "cell_type": "markdown",
   "id": "111b1be6-4cda-4477-825c-843a2d225034",
   "metadata": {},
   "source": [
    "## Problem Statement: \n",
    "**This project aims to analyze and predict the sales of Electric Vehicles (EV) by state in\n",
    "India using machine learning.**"
   ]
  },
  {
   "cell_type": "markdown",
   "id": "db16f5fd-d218-43f3-b26f-094c766b0dd9",
   "metadata": {},
   "source": [
    "## DataScience LIfeCycle has following components:\n",
    "   1. Data source:Here we read the data and paas to next component\n",
    "   2. Data Ingestion: Here we do train and test split and paas  to next component\n",
    "   3. Data Tranformation: Here we do EDA and Feature Engineering and paas to next component\n",
    "   4. ModelTrainer:Multiple models will get applied\n",
    "   5. ModelEvaluation: Each model will get evaluated and we will select model with best accuracy\n",
    "   6. Model Deployment:Here we use pipelines "
   ]
  },
  {
   "cell_type": "markdown",
   "id": "4fd707ae-1a9c-4284-92ab-e2e6f0b9bbd4",
   "metadata": {},
   "source": [
    "### Importing libraries"
   ]
  },
  {
   "cell_type": "code",
   "execution_count": 1,
   "id": "3afba512-b6e1-4898-8da7-fd653ddc2707",
   "metadata": {},
   "outputs": [],
   "source": [
    "import pandas as pd\n",
    "import numpy as np\n",
    "import seaborn as sns\n",
    "import matplotlib.pyplot as plt\n",
    "import sklearn\n",
    "from sklearn import metrics\n",
    "from sklearn.svm import SVR\n",
    "from sklearn.model_selection import train_test_split\n",
    "from sklearn.linear_model import LinearRegression\n",
    "from sklearn.ensemble import RandomForestRegressor\n",
    "from sklearn.metrics import mean_squared_error, r2_score\n",
    "import warnings\n",
    "warnings.filterwarnings('ignore')"
   ]
  },
  {
   "cell_type": "markdown",
   "id": "f13c7c09-6af0-4c84-ae86-4bfe98e98eb6",
   "metadata": {},
   "source": [
    "### Data source:Here we read the data and paas to next component\n",
    "**Our Data source is Electric_Vehicle.csv**"
   ]
  },
  {
   "cell_type": "code",
   "execution_count": 2,
   "id": "9d759bcf-d39b-407d-8807-d1309efbbe34",
   "metadata": {},
   "outputs": [
    {
     "data": {
      "text/html": [
       "<div>\n",
       "<style scoped>\n",
       "    .dataframe tbody tr th:only-of-type {\n",
       "        vertical-align: middle;\n",
       "    }\n",
       "\n",
       "    .dataframe tbody tr th {\n",
       "        vertical-align: top;\n",
       "    }\n",
       "\n",
       "    .dataframe thead th {\n",
       "        text-align: right;\n",
       "    }\n",
       "</style>\n",
       "<table border=\"1\" class=\"dataframe\">\n",
       "  <thead>\n",
       "    <tr style=\"text-align: right;\">\n",
       "      <th></th>\n",
       "      <th>Year</th>\n",
       "      <th>Month_Name</th>\n",
       "      <th>Date</th>\n",
       "      <th>State</th>\n",
       "      <th>Vehicle_Class</th>\n",
       "      <th>Vehicle_Category</th>\n",
       "      <th>Vehicle_Type</th>\n",
       "      <th>EV_Sales_Quantity</th>\n",
       "    </tr>\n",
       "  </thead>\n",
       "  <tbody>\n",
       "    <tr>\n",
       "      <th>0</th>\n",
       "      <td>2014.0</td>\n",
       "      <td>jan</td>\n",
       "      <td>1/1/2014</td>\n",
       "      <td>Andhra Pradesh</td>\n",
       "      <td>ADAPTED VEHICLE</td>\n",
       "      <td>Others</td>\n",
       "      <td>Others</td>\n",
       "      <td>0.0</td>\n",
       "    </tr>\n",
       "    <tr>\n",
       "      <th>1</th>\n",
       "      <td>2014.0</td>\n",
       "      <td>jan</td>\n",
       "      <td>1/1/2014</td>\n",
       "      <td>Andhra Pradesh</td>\n",
       "      <td>AGRICULTURAL TRACTOR</td>\n",
       "      <td>Others</td>\n",
       "      <td>Others</td>\n",
       "      <td>0.0</td>\n",
       "    </tr>\n",
       "    <tr>\n",
       "      <th>2</th>\n",
       "      <td>2014.0</td>\n",
       "      <td>jan</td>\n",
       "      <td>1/1/2014</td>\n",
       "      <td>Andhra Pradesh</td>\n",
       "      <td>AMBULANCE</td>\n",
       "      <td>Others</td>\n",
       "      <td>Others</td>\n",
       "      <td>0.0</td>\n",
       "    </tr>\n",
       "    <tr>\n",
       "      <th>3</th>\n",
       "      <td>2014.0</td>\n",
       "      <td>jan</td>\n",
       "      <td>1/1/2014</td>\n",
       "      <td>Andhra Pradesh</td>\n",
       "      <td>ARTICULATED VEHICLE</td>\n",
       "      <td>Others</td>\n",
       "      <td>Others</td>\n",
       "      <td>0.0</td>\n",
       "    </tr>\n",
       "    <tr>\n",
       "      <th>4</th>\n",
       "      <td>2014.0</td>\n",
       "      <td>jan</td>\n",
       "      <td>1/1/2014</td>\n",
       "      <td>Andhra Pradesh</td>\n",
       "      <td>BUS</td>\n",
       "      <td>Bus</td>\n",
       "      <td>Bus</td>\n",
       "      <td>0.0</td>\n",
       "    </tr>\n",
       "  </tbody>\n",
       "</table>\n",
       "</div>"
      ],
      "text/plain": [
       "     Year Month_Name      Date           State         Vehicle_Class  \\\n",
       "0  2014.0        jan  1/1/2014  Andhra Pradesh       ADAPTED VEHICLE   \n",
       "1  2014.0        jan  1/1/2014  Andhra Pradesh  AGRICULTURAL TRACTOR   \n",
       "2  2014.0        jan  1/1/2014  Andhra Pradesh             AMBULANCE   \n",
       "3  2014.0        jan  1/1/2014  Andhra Pradesh   ARTICULATED VEHICLE   \n",
       "4  2014.0        jan  1/1/2014  Andhra Pradesh                   BUS   \n",
       "\n",
       "  Vehicle_Category Vehicle_Type  EV_Sales_Quantity  \n",
       "0           Others       Others                0.0  \n",
       "1           Others       Others                0.0  \n",
       "2           Others       Others                0.0  \n",
       "3           Others       Others                0.0  \n",
       "4              Bus          Bus                0.0  "
      ]
     },
     "execution_count": 2,
     "metadata": {},
     "output_type": "execute_result"
    }
   ],
   "source": [
    "Electric_Vehicle_Data=pd.read_csv('Electric_Vehicle.csv')\n",
    "Electric_Vehicle_Data.head()"
   ]
  },
  {
   "cell_type": "markdown",
   "id": "31870f29-0ce0-4189-aaab-d1e278304ba3",
   "metadata": {},
   "source": [
    "###  Data Transformation:Exploratory Data Analysis (EDA) & Feature Engineering"
   ]
  },
  {
   "cell_type": "markdown",
   "id": "92150934-78bf-4288-9e05-e2d33dd5e9f7",
   "metadata": {},
   "source": [
    "#### Exploratory Data Analysis (EDA) "
   ]
  },
  {
   "cell_type": "markdown",
   "id": "1456f3ba-f006-49a1-bce6-e0fb65ce8efb",
   "metadata": {},
   "source": [
    "#### Top 5 rows"
   ]
  },
  {
   "cell_type": "code",
   "execution_count": 3,
   "id": "a98b905d-972f-4512-b802-46d946f4a9b9",
   "metadata": {},
   "outputs": [
    {
     "data": {
      "text/html": [
       "<div>\n",
       "<style scoped>\n",
       "    .dataframe tbody tr th:only-of-type {\n",
       "        vertical-align: middle;\n",
       "    }\n",
       "\n",
       "    .dataframe tbody tr th {\n",
       "        vertical-align: top;\n",
       "    }\n",
       "\n",
       "    .dataframe thead th {\n",
       "        text-align: right;\n",
       "    }\n",
       "</style>\n",
       "<table border=\"1\" class=\"dataframe\">\n",
       "  <thead>\n",
       "    <tr style=\"text-align: right;\">\n",
       "      <th></th>\n",
       "      <th>Year</th>\n",
       "      <th>Month_Name</th>\n",
       "      <th>Date</th>\n",
       "      <th>State</th>\n",
       "      <th>Vehicle_Class</th>\n",
       "      <th>Vehicle_Category</th>\n",
       "      <th>Vehicle_Type</th>\n",
       "      <th>EV_Sales_Quantity</th>\n",
       "    </tr>\n",
       "  </thead>\n",
       "  <tbody>\n",
       "    <tr>\n",
       "      <th>0</th>\n",
       "      <td>2014.0</td>\n",
       "      <td>jan</td>\n",
       "      <td>1/1/2014</td>\n",
       "      <td>Andhra Pradesh</td>\n",
       "      <td>ADAPTED VEHICLE</td>\n",
       "      <td>Others</td>\n",
       "      <td>Others</td>\n",
       "      <td>0.0</td>\n",
       "    </tr>\n",
       "    <tr>\n",
       "      <th>1</th>\n",
       "      <td>2014.0</td>\n",
       "      <td>jan</td>\n",
       "      <td>1/1/2014</td>\n",
       "      <td>Andhra Pradesh</td>\n",
       "      <td>AGRICULTURAL TRACTOR</td>\n",
       "      <td>Others</td>\n",
       "      <td>Others</td>\n",
       "      <td>0.0</td>\n",
       "    </tr>\n",
       "    <tr>\n",
       "      <th>2</th>\n",
       "      <td>2014.0</td>\n",
       "      <td>jan</td>\n",
       "      <td>1/1/2014</td>\n",
       "      <td>Andhra Pradesh</td>\n",
       "      <td>AMBULANCE</td>\n",
       "      <td>Others</td>\n",
       "      <td>Others</td>\n",
       "      <td>0.0</td>\n",
       "    </tr>\n",
       "    <tr>\n",
       "      <th>3</th>\n",
       "      <td>2014.0</td>\n",
       "      <td>jan</td>\n",
       "      <td>1/1/2014</td>\n",
       "      <td>Andhra Pradesh</td>\n",
       "      <td>ARTICULATED VEHICLE</td>\n",
       "      <td>Others</td>\n",
       "      <td>Others</td>\n",
       "      <td>0.0</td>\n",
       "    </tr>\n",
       "    <tr>\n",
       "      <th>4</th>\n",
       "      <td>2014.0</td>\n",
       "      <td>jan</td>\n",
       "      <td>1/1/2014</td>\n",
       "      <td>Andhra Pradesh</td>\n",
       "      <td>BUS</td>\n",
       "      <td>Bus</td>\n",
       "      <td>Bus</td>\n",
       "      <td>0.0</td>\n",
       "    </tr>\n",
       "  </tbody>\n",
       "</table>\n",
       "</div>"
      ],
      "text/plain": [
       "     Year Month_Name      Date           State         Vehicle_Class  \\\n",
       "0  2014.0        jan  1/1/2014  Andhra Pradesh       ADAPTED VEHICLE   \n",
       "1  2014.0        jan  1/1/2014  Andhra Pradesh  AGRICULTURAL TRACTOR   \n",
       "2  2014.0        jan  1/1/2014  Andhra Pradesh             AMBULANCE   \n",
       "3  2014.0        jan  1/1/2014  Andhra Pradesh   ARTICULATED VEHICLE   \n",
       "4  2014.0        jan  1/1/2014  Andhra Pradesh                   BUS   \n",
       "\n",
       "  Vehicle_Category Vehicle_Type  EV_Sales_Quantity  \n",
       "0           Others       Others                0.0  \n",
       "1           Others       Others                0.0  \n",
       "2           Others       Others                0.0  \n",
       "3           Others       Others                0.0  \n",
       "4              Bus          Bus                0.0  "
      ]
     },
     "execution_count": 3,
     "metadata": {},
     "output_type": "execute_result"
    }
   ],
   "source": [
    "Electric_Vehicle_Data.head()"
   ]
  },
  {
   "cell_type": "markdown",
   "id": "7a54bb4f-29bf-4386-8ad5-4bff81ccfed6",
   "metadata": {},
   "source": [
    "#### Shape of Data"
   ]
  },
  {
   "cell_type": "code",
   "execution_count": 4,
   "id": "a81975fb-db37-46fa-aea2-83420e545f81",
   "metadata": {},
   "outputs": [
    {
     "data": {
      "text/plain": [
       "(96845, 8)"
      ]
     },
     "execution_count": 4,
     "metadata": {},
     "output_type": "execute_result"
    }
   ],
   "source": [
    "Electric_Vehicle_Data.shape"
   ]
  },
  {
   "cell_type": "markdown",
   "id": "f0427a61-36a1-4675-b078-de22eff4b4c1",
   "metadata": {},
   "source": [
    "### Data Checks"
   ]
  },
  {
   "cell_type": "markdown",
   "id": "ddcf6772-0900-4dc3-a64c-d75ae11d6426",
   "metadata": {},
   "source": [
    "#### **Check missing Values**"
   ]
  },
  {
   "cell_type": "code",
   "execution_count": 5,
   "id": "5aefe8c7-b151-4789-a131-7d9bb77ed14c",
   "metadata": {},
   "outputs": [
    {
     "data": {
      "text/plain": [
       "Year                 0\n",
       "Month_Name           0\n",
       "Date                 0\n",
       "State                0\n",
       "Vehicle_Class        0\n",
       "Vehicle_Category     0\n",
       "Vehicle_Type         0\n",
       "EV_Sales_Quantity    0\n",
       "dtype: int64"
      ]
     },
     "execution_count": 5,
     "metadata": {},
     "output_type": "execute_result"
    }
   ],
   "source": [
    "Electric_Vehicle_Data.isna().sum()"
   ]
  },
  {
   "cell_type": "markdown",
   "id": "8c4b5809-7c6f-4889-9640-937f45add609",
   "metadata": {},
   "source": [
    "**No Missing Value present**"
   ]
  },
  {
   "cell_type": "markdown",
   "id": "69b83abd-c9b5-45e7-b96d-0efcd5305fbd",
   "metadata": {},
   "source": [
    "#### Check Duplicates"
   ]
  },
  {
   "cell_type": "code",
   "execution_count": 6,
   "id": "863fb5d0-8a39-448c-b177-743324388594",
   "metadata": {},
   "outputs": [
    {
     "data": {
      "text/plain": [
       "0"
      ]
     },
     "execution_count": 6,
     "metadata": {},
     "output_type": "execute_result"
    }
   ],
   "source": [
    "Electric_Vehicle_Data.duplicated().sum()"
   ]
  },
  {
   "cell_type": "markdown",
   "id": "c6d778ca-4496-48d3-83d0-45d214e73d95",
   "metadata": {},
   "source": [
    "**No Duplicates present**"
   ]
  },
  {
   "cell_type": "markdown",
   "id": "9667c5d6-2b09-417a-b0b0-e88a95db7b14",
   "metadata": {},
   "source": [
    "#### Stastics about Data**"
   ]
  },
  {
   "cell_type": "code",
   "execution_count": 7,
   "id": "8e4944ee-56fc-489c-b6ce-2f92922ab676",
   "metadata": {},
   "outputs": [
    {
     "data": {
      "text/html": [
       "<div>\n",
       "<style scoped>\n",
       "    .dataframe tbody tr th:only-of-type {\n",
       "        vertical-align: middle;\n",
       "    }\n",
       "\n",
       "    .dataframe tbody tr th {\n",
       "        vertical-align: top;\n",
       "    }\n",
       "\n",
       "    .dataframe thead th {\n",
       "        text-align: right;\n",
       "    }\n",
       "</style>\n",
       "<table border=\"1\" class=\"dataframe\">\n",
       "  <thead>\n",
       "    <tr style=\"text-align: right;\">\n",
       "      <th></th>\n",
       "      <th>Year</th>\n",
       "      <th>EV_Sales_Quantity</th>\n",
       "    </tr>\n",
       "  </thead>\n",
       "  <tbody>\n",
       "    <tr>\n",
       "      <th>count</th>\n",
       "      <td>96845.000000</td>\n",
       "      <td>96845.000000</td>\n",
       "    </tr>\n",
       "    <tr>\n",
       "      <th>mean</th>\n",
       "      <td>2018.622768</td>\n",
       "      <td>37.108896</td>\n",
       "    </tr>\n",
       "    <tr>\n",
       "      <th>std</th>\n",
       "      <td>2.895581</td>\n",
       "      <td>431.566675</td>\n",
       "    </tr>\n",
       "    <tr>\n",
       "      <th>min</th>\n",
       "      <td>2014.000000</td>\n",
       "      <td>0.000000</td>\n",
       "    </tr>\n",
       "    <tr>\n",
       "      <th>25%</th>\n",
       "      <td>2016.000000</td>\n",
       "      <td>0.000000</td>\n",
       "    </tr>\n",
       "    <tr>\n",
       "      <th>50%</th>\n",
       "      <td>2019.000000</td>\n",
       "      <td>0.000000</td>\n",
       "    </tr>\n",
       "    <tr>\n",
       "      <th>75%</th>\n",
       "      <td>2021.000000</td>\n",
       "      <td>0.000000</td>\n",
       "    </tr>\n",
       "    <tr>\n",
       "      <th>max</th>\n",
       "      <td>2024.000000</td>\n",
       "      <td>20584.000000</td>\n",
       "    </tr>\n",
       "  </tbody>\n",
       "</table>\n",
       "</div>"
      ],
      "text/plain": [
       "               Year  EV_Sales_Quantity\n",
       "count  96845.000000       96845.000000\n",
       "mean    2018.622768          37.108896\n",
       "std        2.895581         431.566675\n",
       "min     2014.000000           0.000000\n",
       "25%     2016.000000           0.000000\n",
       "50%     2019.000000           0.000000\n",
       "75%     2021.000000           0.000000\n",
       "max     2024.000000       20584.000000"
      ]
     },
     "execution_count": 7,
     "metadata": {},
     "output_type": "execute_result"
    }
   ],
   "source": [
    "Electric_Vehicle_Data.describe()"
   ]
  },
  {
   "cell_type": "markdown",
   "id": "8d5eeb91-a2e4-4c2f-8f2d-50e0f4c88caf",
   "metadata": {},
   "source": [
    "### Check Data Types"
   ]
  },
  {
   "cell_type": "code",
   "execution_count": 8,
   "id": "0cd21a3f-1174-41c5-8502-059b10f8cca6",
   "metadata": {},
   "outputs": [
    {
     "name": "stdout",
     "output_type": "stream",
     "text": [
      "<class 'pandas.core.frame.DataFrame'>\n",
      "RangeIndex: 96845 entries, 0 to 96844\n",
      "Data columns (total 8 columns):\n",
      " #   Column             Non-Null Count  Dtype  \n",
      "---  ------             --------------  -----  \n",
      " 0   Year               96845 non-null  float64\n",
      " 1   Month_Name         96845 non-null  object \n",
      " 2   Date               96845 non-null  object \n",
      " 3   State              96845 non-null  object \n",
      " 4   Vehicle_Class      96845 non-null  object \n",
      " 5   Vehicle_Category   96845 non-null  object \n",
      " 6   Vehicle_Type       96845 non-null  object \n",
      " 7   EV_Sales_Quantity  96845 non-null  float64\n",
      "dtypes: float64(2), object(6)\n",
      "memory usage: 5.9+ MB\n"
     ]
    }
   ],
   "source": [
    "Electric_Vehicle_Data.info()"
   ]
  },
  {
   "cell_type": "markdown",
   "id": "b3594969-df31-47c6-a8ce-54e44887a7b7",
   "metadata": {},
   "source": [
    "**we have float and object datatypes in our data set**"
   ]
  },
  {
   "cell_type": "markdown",
   "id": "522eacac-0815-4c87-90b0-b845c6f72146",
   "metadata": {},
   "source": [
    "### Feature Engineering"
   ]
  },
  {
   "cell_type": "markdown",
   "id": "aaa88d13-85b6-43af-9f49-6b1f525751f6",
   "metadata": {},
   "source": [
    "- Year can not be in float so converting it to integer\n",
    "- To maintain consistency converting EV_Sales_Quantity as well  to Integer"
   ]
  },
  {
   "cell_type": "code",
   "execution_count": 9,
   "id": "931eda19-7151-4fe0-8ccd-910cb62fddeb",
   "metadata": {},
   "outputs": [],
   "source": [
    "Electric_Vehicle_Data['Year']=[int(val) for val in Electric_Vehicle_Data['Year']]\n",
    "Electric_Vehicle_Data['EV_Sales_Quantity']=[int(val) for val in Electric_Vehicle_Data['EV_Sales_Quantity']]"
   ]
  },
  {
   "cell_type": "code",
   "execution_count": 10,
   "id": "dcf75351-d415-4b92-9f1d-aae1f2a12c35",
   "metadata": {},
   "outputs": [
    {
     "name": "stdout",
     "output_type": "stream",
     "text": [
      "int64\n",
      "int64\n"
     ]
    }
   ],
   "source": [
    "print(Electric_Vehicle_Data['Year'].dtype)\n",
    "print(Electric_Vehicle_Data['EV_Sales_Quantity'].dtype)"
   ]
  },
  {
   "cell_type": "code",
   "execution_count": 11,
   "id": "cc9dbcd7-87f4-4436-912b-3ce23f740b0c",
   "metadata": {},
   "outputs": [
    {
     "name": "stdout",
     "output_type": "stream",
     "text": [
      "<class 'pandas.core.frame.DataFrame'>\n",
      "RangeIndex: 96845 entries, 0 to 96844\n",
      "Data columns (total 8 columns):\n",
      " #   Column             Non-Null Count  Dtype \n",
      "---  ------             --------------  ----- \n",
      " 0   Year               96845 non-null  int64 \n",
      " 1   Month_Name         96845 non-null  object\n",
      " 2   Date               96845 non-null  object\n",
      " 3   State              96845 non-null  object\n",
      " 4   Vehicle_Class      96845 non-null  object\n",
      " 5   Vehicle_Category   96845 non-null  object\n",
      " 6   Vehicle_Type       96845 non-null  object\n",
      " 7   EV_Sales_Quantity  96845 non-null  int64 \n",
      "dtypes: int64(2), object(6)\n",
      "memory usage: 5.9+ MB\n"
     ]
    }
   ],
   "source": [
    "Electric_Vehicle_Data.info()"
   ]
  },
  {
   "cell_type": "markdown",
   "id": "62d010f1-d438-4a0a-b8af-88716a1784af",
   "metadata": {},
   "source": [
    "**Now we have date types as integer and Object**"
   ]
  },
  {
   "cell_type": "markdown",
   "id": "9303a2d2-bd0d-4cc7-bb48-060eb8c61736",
   "metadata": {},
   "source": [
    "### Electric_Vehicle with zeroSales"
   ]
  },
  {
   "cell_type": "code",
   "execution_count": 12,
   "id": "2f85ec2d-9704-4f5a-a4c8-4935c814f6c8",
   "metadata": {},
   "outputs": [],
   "source": [
    "Electric_Vehicle_Data_zero_sales=Electric_Vehicle_Data[Electric_Vehicle_Data['EV_Sales_Quantity']==0]"
   ]
  },
  {
   "cell_type": "code",
   "execution_count": 13,
   "id": "3a15d354-7dc7-4f2f-957f-f82378de4289",
   "metadata": {},
   "outputs": [
    {
     "data": {
      "text/html": [
       "<div>\n",
       "<style scoped>\n",
       "    .dataframe tbody tr th:only-of-type {\n",
       "        vertical-align: middle;\n",
       "    }\n",
       "\n",
       "    .dataframe tbody tr th {\n",
       "        vertical-align: top;\n",
       "    }\n",
       "\n",
       "    .dataframe thead th {\n",
       "        text-align: right;\n",
       "    }\n",
       "</style>\n",
       "<table border=\"1\" class=\"dataframe\">\n",
       "  <thead>\n",
       "    <tr style=\"text-align: right;\">\n",
       "      <th></th>\n",
       "      <th>Year</th>\n",
       "      <th>Month_Name</th>\n",
       "      <th>Date</th>\n",
       "      <th>State</th>\n",
       "      <th>Vehicle_Class</th>\n",
       "      <th>Vehicle_Category</th>\n",
       "      <th>Vehicle_Type</th>\n",
       "      <th>EV_Sales_Quantity</th>\n",
       "    </tr>\n",
       "  </thead>\n",
       "  <tbody>\n",
       "    <tr>\n",
       "      <th>0</th>\n",
       "      <td>2014</td>\n",
       "      <td>jan</td>\n",
       "      <td>1/1/2014</td>\n",
       "      <td>Andhra Pradesh</td>\n",
       "      <td>ADAPTED VEHICLE</td>\n",
       "      <td>Others</td>\n",
       "      <td>Others</td>\n",
       "      <td>0</td>\n",
       "    </tr>\n",
       "    <tr>\n",
       "      <th>1</th>\n",
       "      <td>2014</td>\n",
       "      <td>jan</td>\n",
       "      <td>1/1/2014</td>\n",
       "      <td>Andhra Pradesh</td>\n",
       "      <td>AGRICULTURAL TRACTOR</td>\n",
       "      <td>Others</td>\n",
       "      <td>Others</td>\n",
       "      <td>0</td>\n",
       "    </tr>\n",
       "    <tr>\n",
       "      <th>2</th>\n",
       "      <td>2014</td>\n",
       "      <td>jan</td>\n",
       "      <td>1/1/2014</td>\n",
       "      <td>Andhra Pradesh</td>\n",
       "      <td>AMBULANCE</td>\n",
       "      <td>Others</td>\n",
       "      <td>Others</td>\n",
       "      <td>0</td>\n",
       "    </tr>\n",
       "    <tr>\n",
       "      <th>3</th>\n",
       "      <td>2014</td>\n",
       "      <td>jan</td>\n",
       "      <td>1/1/2014</td>\n",
       "      <td>Andhra Pradesh</td>\n",
       "      <td>ARTICULATED VEHICLE</td>\n",
       "      <td>Others</td>\n",
       "      <td>Others</td>\n",
       "      <td>0</td>\n",
       "    </tr>\n",
       "    <tr>\n",
       "      <th>4</th>\n",
       "      <td>2014</td>\n",
       "      <td>jan</td>\n",
       "      <td>1/1/2014</td>\n",
       "      <td>Andhra Pradesh</td>\n",
       "      <td>BUS</td>\n",
       "      <td>Bus</td>\n",
       "      <td>Bus</td>\n",
       "      <td>0</td>\n",
       "    </tr>\n",
       "    <tr>\n",
       "      <th>...</th>\n",
       "      <td>...</td>\n",
       "      <td>...</td>\n",
       "      <td>...</td>\n",
       "      <td>...</td>\n",
       "      <td>...</td>\n",
       "      <td>...</td>\n",
       "      <td>...</td>\n",
       "      <td>...</td>\n",
       "    </tr>\n",
       "    <tr>\n",
       "      <th>96836</th>\n",
       "      <td>2023</td>\n",
       "      <td>dec</td>\n",
       "      <td>12/1/2023</td>\n",
       "      <td>Andaman &amp; Nicobar Island</td>\n",
       "      <td>MAXI CAB</td>\n",
       "      <td>Others</td>\n",
       "      <td>Others</td>\n",
       "      <td>0</td>\n",
       "    </tr>\n",
       "    <tr>\n",
       "      <th>96838</th>\n",
       "      <td>2023</td>\n",
       "      <td>dec</td>\n",
       "      <td>12/1/2023</td>\n",
       "      <td>Andaman &amp; Nicobar Island</td>\n",
       "      <td>MOPED</td>\n",
       "      <td>2-Wheelers</td>\n",
       "      <td>2W_Personal</td>\n",
       "      <td>0</td>\n",
       "    </tr>\n",
       "    <tr>\n",
       "      <th>96842</th>\n",
       "      <td>2023</td>\n",
       "      <td>dec</td>\n",
       "      <td>12/1/2023</td>\n",
       "      <td>Andaman &amp; Nicobar Island</td>\n",
       "      <td>OMNI BUS</td>\n",
       "      <td>Bus</td>\n",
       "      <td>Bus</td>\n",
       "      <td>0</td>\n",
       "    </tr>\n",
       "    <tr>\n",
       "      <th>96843</th>\n",
       "      <td>2023</td>\n",
       "      <td>dec</td>\n",
       "      <td>12/1/2023</td>\n",
       "      <td>Andaman &amp; Nicobar Island</td>\n",
       "      <td>THREE WHEELER (GOODS)</td>\n",
       "      <td>3-Wheelers</td>\n",
       "      <td>3W_Goods</td>\n",
       "      <td>0</td>\n",
       "    </tr>\n",
       "    <tr>\n",
       "      <th>96844</th>\n",
       "      <td>2023</td>\n",
       "      <td>dec</td>\n",
       "      <td>12/1/2023</td>\n",
       "      <td>Andaman &amp; Nicobar Island</td>\n",
       "      <td>THREE WHEELER (PASSENGER)</td>\n",
       "      <td>3-Wheelers</td>\n",
       "      <td>3W_Shared</td>\n",
       "      <td>0</td>\n",
       "    </tr>\n",
       "  </tbody>\n",
       "</table>\n",
       "<p>82783 rows × 8 columns</p>\n",
       "</div>"
      ],
      "text/plain": [
       "       Year Month_Name       Date                     State  \\\n",
       "0      2014        jan   1/1/2014            Andhra Pradesh   \n",
       "1      2014        jan   1/1/2014            Andhra Pradesh   \n",
       "2      2014        jan   1/1/2014            Andhra Pradesh   \n",
       "3      2014        jan   1/1/2014            Andhra Pradesh   \n",
       "4      2014        jan   1/1/2014            Andhra Pradesh   \n",
       "...     ...        ...        ...                       ...   \n",
       "96836  2023        dec  12/1/2023  Andaman & Nicobar Island   \n",
       "96838  2023        dec  12/1/2023  Andaman & Nicobar Island   \n",
       "96842  2023        dec  12/1/2023  Andaman & Nicobar Island   \n",
       "96843  2023        dec  12/1/2023  Andaman & Nicobar Island   \n",
       "96844  2023        dec  12/1/2023  Andaman & Nicobar Island   \n",
       "\n",
       "                   Vehicle_Class Vehicle_Category Vehicle_Type  \\\n",
       "0                ADAPTED VEHICLE           Others       Others   \n",
       "1           AGRICULTURAL TRACTOR           Others       Others   \n",
       "2                      AMBULANCE           Others       Others   \n",
       "3            ARTICULATED VEHICLE           Others       Others   \n",
       "4                            BUS              Bus          Bus   \n",
       "...                          ...              ...          ...   \n",
       "96836                   MAXI CAB           Others       Others   \n",
       "96838                      MOPED       2-Wheelers  2W_Personal   \n",
       "96842                   OMNI BUS              Bus          Bus   \n",
       "96843      THREE WHEELER (GOODS)       3-Wheelers     3W_Goods   \n",
       "96844  THREE WHEELER (PASSENGER)       3-Wheelers    3W_Shared   \n",
       "\n",
       "       EV_Sales_Quantity  \n",
       "0                      0  \n",
       "1                      0  \n",
       "2                      0  \n",
       "3                      0  \n",
       "4                      0  \n",
       "...                  ...  \n",
       "96836                  0  \n",
       "96838                  0  \n",
       "96842                  0  \n",
       "96843                  0  \n",
       "96844                  0  \n",
       "\n",
       "[82783 rows x 8 columns]"
      ]
     },
     "execution_count": 13,
     "metadata": {},
     "output_type": "execute_result"
    }
   ],
   "source": [
    "Electric_Vehicle_Data_zero_sales"
   ]
  },
  {
   "cell_type": "code",
   "execution_count": 14,
   "id": "ff9461a0-1aef-4ab1-bae8-5fb70b86ab50",
   "metadata": {},
   "outputs": [],
   "source": [
    "non_zero_sales = Electric_Vehicle_Data[Electric_Vehicle_Data['EV_Sales_Quantity'].ne(0)]"
   ]
  },
  {
   "cell_type": "code",
   "execution_count": 15,
   "id": "85c145eb-2fa5-4041-a337-ea54ae1aa027",
   "metadata": {},
   "outputs": [
    {
     "name": "stdout",
     "output_type": "stream",
     "text": [
      "['2W_Personal' '4W_Personal' 'Others' '3W_Shared' '4W_Shared'\n",
      " '3W_Shared_LowSpeed' 'Bus' '3W_Goods' '3W_Goods_LowSpeed' '3W_Personal'\n",
      " '2W_Shared']\n"
     ]
    }
   ],
   "source": [
    "print(non_zero_sales['Vehicle_Type'].unique())"
   ]
  },
  {
   "cell_type": "code",
   "execution_count": 16,
   "id": "4b8a140f-a19e-47cf-bc9e-bfd6c5455a68",
   "metadata": {},
   "outputs": [
    {
     "data": {
      "text/plain": [
       "Vehicle_Type\n",
       "2W_Personal           4314\n",
       "3W_Shared_LowSpeed    1854\n",
       "4W_Personal           1778\n",
       "3W_Goods_LowSpeed     1501\n",
       "3W_Shared             1346\n",
       "Others                1122\n",
       "3W_Goods               926\n",
       "4W_Shared              631\n",
       "Bus                    318\n",
       "3W_Personal            179\n",
       "2W_Shared               93\n",
       "Name: count, dtype: int64"
      ]
     },
     "execution_count": 16,
     "metadata": {},
     "output_type": "execute_result"
    }
   ],
   "source": [
    "non_zero_sales['Vehicle_Type'].value_counts()"
   ]
  },
  {
   "cell_type": "code",
   "execution_count": 17,
   "id": "691d61a9-f8d3-4be3-9f17-e0f669b0edf0",
   "metadata": {},
   "outputs": [
    {
     "data": {
      "text/html": [
       "<div>\n",
       "<style scoped>\n",
       "    .dataframe tbody tr th:only-of-type {\n",
       "        vertical-align: middle;\n",
       "    }\n",
       "\n",
       "    .dataframe tbody tr th {\n",
       "        vertical-align: top;\n",
       "    }\n",
       "\n",
       "    .dataframe thead th {\n",
       "        text-align: right;\n",
       "    }\n",
       "</style>\n",
       "<table border=\"1\" class=\"dataframe\">\n",
       "  <thead>\n",
       "    <tr style=\"text-align: right;\">\n",
       "      <th></th>\n",
       "      <th>Year</th>\n",
       "      <th>Month_Name</th>\n",
       "      <th>Date</th>\n",
       "      <th>State</th>\n",
       "      <th>Vehicle_Class</th>\n",
       "      <th>Vehicle_Category</th>\n",
       "      <th>Vehicle_Type</th>\n",
       "      <th>EV_Sales_Quantity</th>\n",
       "    </tr>\n",
       "  </thead>\n",
       "  <tbody>\n",
       "    <tr>\n",
       "      <th>13</th>\n",
       "      <td>2014</td>\n",
       "      <td>jan</td>\n",
       "      <td>1/1/2014</td>\n",
       "      <td>Andhra Pradesh</td>\n",
       "      <td>M-CYCLE/SCOOTER</td>\n",
       "      <td>2-Wheelers</td>\n",
       "      <td>2W_Personal</td>\n",
       "      <td>1</td>\n",
       "    </tr>\n",
       "    <tr>\n",
       "      <th>102</th>\n",
       "      <td>2014</td>\n",
       "      <td>jan</td>\n",
       "      <td>1/1/2014</td>\n",
       "      <td>Chhattisgarh</td>\n",
       "      <td>M-CYCLE/SCOOTER</td>\n",
       "      <td>2-Wheelers</td>\n",
       "      <td>2W_Personal</td>\n",
       "      <td>10</td>\n",
       "    </tr>\n",
       "    <tr>\n",
       "      <th>153</th>\n",
       "      <td>2014</td>\n",
       "      <td>jan</td>\n",
       "      <td>1/1/2014</td>\n",
       "      <td>Delhi</td>\n",
       "      <td>M-CYCLE/SCOOTER</td>\n",
       "      <td>2-Wheelers</td>\n",
       "      <td>2W_Personal</td>\n",
       "      <td>2</td>\n",
       "    </tr>\n",
       "    <tr>\n",
       "      <th>157</th>\n",
       "      <td>2014</td>\n",
       "      <td>jan</td>\n",
       "      <td>1/1/2014</td>\n",
       "      <td>Delhi</td>\n",
       "      <td>MOTOR CAR</td>\n",
       "      <td>4-Wheelers</td>\n",
       "      <td>4W_Personal</td>\n",
       "      <td>5</td>\n",
       "    </tr>\n",
       "    <tr>\n",
       "      <th>173</th>\n",
       "      <td>2014</td>\n",
       "      <td>jan</td>\n",
       "      <td>1/1/2014</td>\n",
       "      <td>Goa</td>\n",
       "      <td>MOTOR CAR</td>\n",
       "      <td>4-Wheelers</td>\n",
       "      <td>4W_Personal</td>\n",
       "      <td>1</td>\n",
       "    </tr>\n",
       "    <tr>\n",
       "      <th>...</th>\n",
       "      <td>...</td>\n",
       "      <td>...</td>\n",
       "      <td>...</td>\n",
       "      <td>...</td>\n",
       "      <td>...</td>\n",
       "      <td>...</td>\n",
       "      <td>...</td>\n",
       "      <td>...</td>\n",
       "    </tr>\n",
       "    <tr>\n",
       "      <th>96833</th>\n",
       "      <td>2023</td>\n",
       "      <td>dec</td>\n",
       "      <td>12/1/2023</td>\n",
       "      <td>Goa</td>\n",
       "      <td>THREE WHEELER (PERSONAL)</td>\n",
       "      <td>3-Wheelers</td>\n",
       "      <td>3W_Personal</td>\n",
       "      <td>1</td>\n",
       "    </tr>\n",
       "    <tr>\n",
       "      <th>96837</th>\n",
       "      <td>2023</td>\n",
       "      <td>dec</td>\n",
       "      <td>12/1/2023</td>\n",
       "      <td>Andaman &amp; Nicobar Island</td>\n",
       "      <td>M-CYCLE/SCOOTER</td>\n",
       "      <td>2-Wheelers</td>\n",
       "      <td>2W_Personal</td>\n",
       "      <td>2</td>\n",
       "    </tr>\n",
       "    <tr>\n",
       "      <th>96839</th>\n",
       "      <td>2023</td>\n",
       "      <td>dec</td>\n",
       "      <td>12/1/2023</td>\n",
       "      <td>Andaman &amp; Nicobar Island</td>\n",
       "      <td>MOTOR CAB</td>\n",
       "      <td>4-Wheelers</td>\n",
       "      <td>4W_Shared</td>\n",
       "      <td>1</td>\n",
       "    </tr>\n",
       "    <tr>\n",
       "      <th>96840</th>\n",
       "      <td>2023</td>\n",
       "      <td>dec</td>\n",
       "      <td>12/1/2023</td>\n",
       "      <td>Andaman &amp; Nicobar Island</td>\n",
       "      <td>MOTOR CAR</td>\n",
       "      <td>4-Wheelers</td>\n",
       "      <td>4W_Personal</td>\n",
       "      <td>1</td>\n",
       "    </tr>\n",
       "    <tr>\n",
       "      <th>96841</th>\n",
       "      <td>2023</td>\n",
       "      <td>dec</td>\n",
       "      <td>12/1/2023</td>\n",
       "      <td>Andaman &amp; Nicobar Island</td>\n",
       "      <td>MOTOR CYCLE/SCOOTER-USED FOR HIRE</td>\n",
       "      <td>2-Wheelers</td>\n",
       "      <td>2W_Shared</td>\n",
       "      <td>5</td>\n",
       "    </tr>\n",
       "  </tbody>\n",
       "</table>\n",
       "<p>14062 rows × 8 columns</p>\n",
       "</div>"
      ],
      "text/plain": [
       "       Year Month_Name       Date                     State  \\\n",
       "13     2014        jan   1/1/2014            Andhra Pradesh   \n",
       "102    2014        jan   1/1/2014              Chhattisgarh   \n",
       "153    2014        jan   1/1/2014                     Delhi   \n",
       "157    2014        jan   1/1/2014                     Delhi   \n",
       "173    2014        jan   1/1/2014                       Goa   \n",
       "...     ...        ...        ...                       ...   \n",
       "96833  2023        dec  12/1/2023                       Goa   \n",
       "96837  2023        dec  12/1/2023  Andaman & Nicobar Island   \n",
       "96839  2023        dec  12/1/2023  Andaman & Nicobar Island   \n",
       "96840  2023        dec  12/1/2023  Andaman & Nicobar Island   \n",
       "96841  2023        dec  12/1/2023  Andaman & Nicobar Island   \n",
       "\n",
       "                           Vehicle_Class Vehicle_Category Vehicle_Type  \\\n",
       "13                       M-CYCLE/SCOOTER       2-Wheelers  2W_Personal   \n",
       "102                      M-CYCLE/SCOOTER       2-Wheelers  2W_Personal   \n",
       "153                      M-CYCLE/SCOOTER       2-Wheelers  2W_Personal   \n",
       "157                            MOTOR CAR       4-Wheelers  4W_Personal   \n",
       "173                            MOTOR CAR       4-Wheelers  4W_Personal   \n",
       "...                                  ...              ...          ...   \n",
       "96833           THREE WHEELER (PERSONAL)       3-Wheelers  3W_Personal   \n",
       "96837                    M-CYCLE/SCOOTER       2-Wheelers  2W_Personal   \n",
       "96839                          MOTOR CAB       4-Wheelers    4W_Shared   \n",
       "96840                          MOTOR CAR       4-Wheelers  4W_Personal   \n",
       "96841  MOTOR CYCLE/SCOOTER-USED FOR HIRE       2-Wheelers    2W_Shared   \n",
       "\n",
       "       EV_Sales_Quantity  \n",
       "13                     1  \n",
       "102                   10  \n",
       "153                    2  \n",
       "157                    5  \n",
       "173                    1  \n",
       "...                  ...  \n",
       "96833                  1  \n",
       "96837                  2  \n",
       "96839                  1  \n",
       "96840                  1  \n",
       "96841                  5  \n",
       "\n",
       "[14062 rows x 8 columns]"
      ]
     },
     "execution_count": 17,
     "metadata": {},
     "output_type": "execute_result"
    }
   ],
   "source": [
    "non_zero_sales"
   ]
  },
  {
   "cell_type": "code",
   "execution_count": 18,
   "id": "a9360553-2dea-4bc6-9f88-c54cffdb7f47",
   "metadata": {},
   "outputs": [
    {
     "data": {
      "image/png": "[encoded data removed]",
      "text/plain": [
       "<Figure size 2000x500 with 1 Axes>"
      ]
     },
     "metadata": {},
     "output_type": "display_data"
    }
   ],
   "source": [
    "plt.figure(figsize=(20,5))\n",
    "plt.xticks(fontsize=12,fontweight=100)\n",
    "sns.barplot(x = 'Vehicle_Class', y = 'EV_Sales_Quantity', data = non_zero_sales.head(20))\n",
    "plt.show()"
   ]
  },
  {
   "cell_type": "markdown",
   "id": "881aef6a-3796-4432-840e-7d6075291263",
   "metadata": {},
   "source": [
    "**Maximum sales of Electric Vehicle**:\n",
    " - **M-CYCLE/SCOOTER**\n",
    "\n",
    "\n",
    "**Least Sales Of Electric Vehicle**: \n",
    "\n",
    " - **AGRICULTURE TRACTOR**\n",
    " - **FORKLIFT**\n",
    " - **THREE WHEELER**\n",
    " - **MOPED**\n",
    " - **MOTOR CAB**"
   ]
  },
  {
   "cell_type": "markdown",
   "id": "f1dd5f7d-32d7-4957-935c-e51f453f918e",
   "metadata": {},
   "source": [
    "**Suggestions**:\n",
    "1. More awareness regarding electric vehicles required in agriculture areas\n",
    "2. More benefits should be given to three wheelers to promote use of Battery Rickshaws\n",
    "3. Electric Cabs should be available in affordable rents in apps for rental cabs\n",
    "4. Need more promotion to aware people regarding benefits of Electric vehicles "
   ]
  },
  {
   "cell_type": "code",
   "execution_count": 19,
   "id": "5bf11e96-b493-437c-aa6c-b96ff372640c",
   "metadata": {},
   "outputs": [
    {
     "data": {
      "image/png": "[encoded data removed]",
      "text/plain": [
       "<Figure size 2000x500 with 1 Axes>"
      ]
     },
     "metadata": {},
     "output_type": "display_data"
    }
   ],
   "source": [
    "plt.figure(figsize=(20,5))\n",
    "plt.xticks(fontsize=12,fontweight=100)\n",
    "sns.barplot(x = 'State', y = 'EV_Sales_Quantity', data = non_zero_sales.head(20))\n",
    "plt.show()"
   ]
  },
  {
   "cell_type": "markdown",
   "id": "d69fd9f8-3156-4925-a998-065924532ecc",
   "metadata": {},
   "source": [
    "**Insights:**\n",
    "  - **Maximum Sales Areas :**\n",
    "    1. Maharashtra\n",
    "  - **Least Sales Areas:**\n",
    "  1. Andhra Pradesh\n",
    "  2. Delhi\n",
    "  3. Goa\n",
    "  4. HimachalPradesh\n",
    "  5. Haryana\n",
    "  6. Jharkhand\n",
    "  7. Kerala\n",
    "\n",
    " - **Neither more nor Least sales:**\n",
    "  1. Chattisgarh\n",
    "  2. Karnataka\n",
    "  3. Gujarat\n",
    "     \n",
    "**Suggesstions:**\n",
    "  - More Awaresness required in Least Sales Areas\n"
   ]
  },
  {
   "cell_type": "code",
   "execution_count": 20,
   "id": "2ecc785c-b1e7-4e4f-9f08-5afce6aae39b",
   "metadata": {},
   "outputs": [],
   "source": [
    "non_zero_sales=non_zero_sales.drop(['Month_Name','Date'],axis=1)"
   ]
  },
  {
   "cell_type": "code",
   "execution_count": 21,
   "id": "29374464-eb52-4266-ad1a-15e1faab81c2",
   "metadata": {},
   "outputs": [
    {
     "data": {
      "text/html": [
       "<div>\n",
       "<style scoped>\n",
       "    .dataframe tbody tr th:only-of-type {\n",
       "        vertical-align: middle;\n",
       "    }\n",
       "\n",
       "    .dataframe tbody tr th {\n",
       "        vertical-align: top;\n",
       "    }\n",
       "\n",
       "    .dataframe thead th {\n",
       "        text-align: right;\n",
       "    }\n",
       "</style>\n",
       "<table border=\"1\" class=\"dataframe\">\n",
       "  <thead>\n",
       "    <tr style=\"text-align: right;\">\n",
       "      <th></th>\n",
       "      <th>Year</th>\n",
       "      <th>State</th>\n",
       "      <th>Vehicle_Class</th>\n",
       "      <th>Vehicle_Category</th>\n",
       "      <th>Vehicle_Type</th>\n",
       "      <th>EV_Sales_Quantity</th>\n",
       "    </tr>\n",
       "  </thead>\n",
       "  <tbody>\n",
       "    <tr>\n",
       "      <th>13</th>\n",
       "      <td>2014</td>\n",
       "      <td>Andhra Pradesh</td>\n",
       "      <td>M-CYCLE/SCOOTER</td>\n",
       "      <td>2-Wheelers</td>\n",
       "      <td>2W_Personal</td>\n",
       "      <td>1</td>\n",
       "    </tr>\n",
       "    <tr>\n",
       "      <th>102</th>\n",
       "      <td>2014</td>\n",
       "      <td>Chhattisgarh</td>\n",
       "      <td>M-CYCLE/SCOOTER</td>\n",
       "      <td>2-Wheelers</td>\n",
       "      <td>2W_Personal</td>\n",
       "      <td>10</td>\n",
       "    </tr>\n",
       "    <tr>\n",
       "      <th>153</th>\n",
       "      <td>2014</td>\n",
       "      <td>Delhi</td>\n",
       "      <td>M-CYCLE/SCOOTER</td>\n",
       "      <td>2-Wheelers</td>\n",
       "      <td>2W_Personal</td>\n",
       "      <td>2</td>\n",
       "    </tr>\n",
       "    <tr>\n",
       "      <th>157</th>\n",
       "      <td>2014</td>\n",
       "      <td>Delhi</td>\n",
       "      <td>MOTOR CAR</td>\n",
       "      <td>4-Wheelers</td>\n",
       "      <td>4W_Personal</td>\n",
       "      <td>5</td>\n",
       "    </tr>\n",
       "    <tr>\n",
       "      <th>173</th>\n",
       "      <td>2014</td>\n",
       "      <td>Goa</td>\n",
       "      <td>MOTOR CAR</td>\n",
       "      <td>4-Wheelers</td>\n",
       "      <td>4W_Personal</td>\n",
       "      <td>1</td>\n",
       "    </tr>\n",
       "    <tr>\n",
       "      <th>...</th>\n",
       "      <td>...</td>\n",
       "      <td>...</td>\n",
       "      <td>...</td>\n",
       "      <td>...</td>\n",
       "      <td>...</td>\n",
       "      <td>...</td>\n",
       "    </tr>\n",
       "    <tr>\n",
       "      <th>96833</th>\n",
       "      <td>2023</td>\n",
       "      <td>Goa</td>\n",
       "      <td>THREE WHEELER (PERSONAL)</td>\n",
       "      <td>3-Wheelers</td>\n",
       "      <td>3W_Personal</td>\n",
       "      <td>1</td>\n",
       "    </tr>\n",
       "    <tr>\n",
       "      <th>96837</th>\n",
       "      <td>2023</td>\n",
       "      <td>Andaman &amp; Nicobar Island</td>\n",
       "      <td>M-CYCLE/SCOOTER</td>\n",
       "      <td>2-Wheelers</td>\n",
       "      <td>2W_Personal</td>\n",
       "      <td>2</td>\n",
       "    </tr>\n",
       "    <tr>\n",
       "      <th>96839</th>\n",
       "      <td>2023</td>\n",
       "      <td>Andaman &amp; Nicobar Island</td>\n",
       "      <td>MOTOR CAB</td>\n",
       "      <td>4-Wheelers</td>\n",
       "      <td>4W_Shared</td>\n",
       "      <td>1</td>\n",
       "    </tr>\n",
       "    <tr>\n",
       "      <th>96840</th>\n",
       "      <td>2023</td>\n",
       "      <td>Andaman &amp; Nicobar Island</td>\n",
       "      <td>MOTOR CAR</td>\n",
       "      <td>4-Wheelers</td>\n",
       "      <td>4W_Personal</td>\n",
       "      <td>1</td>\n",
       "    </tr>\n",
       "    <tr>\n",
       "      <th>96841</th>\n",
       "      <td>2023</td>\n",
       "      <td>Andaman &amp; Nicobar Island</td>\n",
       "      <td>MOTOR CYCLE/SCOOTER-USED FOR HIRE</td>\n",
       "      <td>2-Wheelers</td>\n",
       "      <td>2W_Shared</td>\n",
       "      <td>5</td>\n",
       "    </tr>\n",
       "  </tbody>\n",
       "</table>\n",
       "<p>14062 rows × 6 columns</p>\n",
       "</div>"
      ],
      "text/plain": [
       "       Year                     State                      Vehicle_Class  \\\n",
       "13     2014            Andhra Pradesh                    M-CYCLE/SCOOTER   \n",
       "102    2014              Chhattisgarh                    M-CYCLE/SCOOTER   \n",
       "153    2014                     Delhi                    M-CYCLE/SCOOTER   \n",
       "157    2014                     Delhi                          MOTOR CAR   \n",
       "173    2014                       Goa                          MOTOR CAR   \n",
       "...     ...                       ...                                ...   \n",
       "96833  2023                       Goa           THREE WHEELER (PERSONAL)   \n",
       "96837  2023  Andaman & Nicobar Island                    M-CYCLE/SCOOTER   \n",
       "96839  2023  Andaman & Nicobar Island                          MOTOR CAB   \n",
       "96840  2023  Andaman & Nicobar Island                          MOTOR CAR   \n",
       "96841  2023  Andaman & Nicobar Island  MOTOR CYCLE/SCOOTER-USED FOR HIRE   \n",
       "\n",
       "      Vehicle_Category Vehicle_Type  EV_Sales_Quantity  \n",
       "13          2-Wheelers  2W_Personal                  1  \n",
       "102         2-Wheelers  2W_Personal                 10  \n",
       "153         2-Wheelers  2W_Personal                  2  \n",
       "157         4-Wheelers  4W_Personal                  5  \n",
       "173         4-Wheelers  4W_Personal                  1  \n",
       "...                ...          ...                ...  \n",
       "96833       3-Wheelers  3W_Personal                  1  \n",
       "96837       2-Wheelers  2W_Personal                  2  \n",
       "96839       4-Wheelers    4W_Shared                  1  \n",
       "96840       4-Wheelers  4W_Personal                  1  \n",
       "96841       2-Wheelers    2W_Shared                  5  \n",
       "\n",
       "[14062 rows x 6 columns]"
      ]
     },
     "execution_count": 21,
     "metadata": {},
     "output_type": "execute_result"
    }
   ],
   "source": [
    "non_zero_sales"
   ]
  },
  {
   "cell_type": "code",
   "execution_count": 22,
   "id": "3d5bb66f-9885-456d-a3a9-8334bfce0e9f",
   "metadata": {},
   "outputs": [
    {
     "name": "stdout",
     "output_type": "stream",
     "text": [
      "['Andhra Pradesh' 'Chhattisgarh' 'Delhi' 'Goa' 'Gujarat'\n",
      " 'Himachal Pradesh' 'Haryana' 'Jharkhand' 'Karnataka' 'Kerala'\n",
      " 'Maharashtra' 'Madhya Pradesh' 'Odisha' 'Punjab' 'Puducherry' 'Rajasthan'\n",
      " 'Tamil Nadu' 'Uttarakhand' 'Uttar Pradesh' 'West Bengal'\n",
      " 'Jammu and Kashmir' 'Assam' 'Bihar' 'Mizoram' 'Chandigarh' 'Manipur'\n",
      " 'DNH and DD' 'Nagaland' 'Tripura' 'Meghalaya' 'Andaman & Nicobar Island'\n",
      " 'Ladakh' 'Arunachal Pradesh' 'Sikkim']\n"
     ]
    }
   ],
   "source": [
    "## Unique States \n",
    "print(non_zero_sales['State'].unique())"
   ]
  },
  {
   "cell_type": "code",
   "execution_count": 23,
   "id": "868ad43f-5c4c-4d16-a9d4-5ae4ff286c8f",
   "metadata": {},
   "outputs": [],
   "source": [
    "#States Encoding\n",
    "States_dictionary={'Andhra Pradesh':0,'Chhattisgarh':1,'Delhi':2,'Goa':3,'Gujarat':4,'Himachal Pradesh':5,'Madhya Pradesh':6,\n",
    "                   'Odisha':7,'Punjab':8,'Puducherry':9,'Rajasthan':10,'Tamil Nadu':11,'Uttarakhand':12,'Uttar Pradesh':13,\n",
    "                   'West Bengal':14,'Jammu and Kashmir':15,'Assam':16,'Bihar':17,'Mizoram':18,'Chandigarh':19,'Manipur':20,\n",
    "                   'DNH and DD':21,'Nagaland':22,'Tripura':23,'Meghalaya':24,'Andaman & Nicobar Island':25,'Ladakh':26,'Arunachal Pradesh':28,'Sikkim':29,'others':100}"
   ]
  },
  {
   "cell_type": "code",
   "execution_count": 24,
   "id": "710675c7-5f13-44bb-8a14-5039a02f459d",
   "metadata": {},
   "outputs": [
    {
     "data": {
      "text/plain": [
       "dict_keys(['Andhra Pradesh', 'Chhattisgarh', 'Delhi', 'Goa', 'Gujarat', 'Himachal Pradesh', 'Madhya Pradesh', 'Odisha', 'Punjab', 'Puducherry', 'Rajasthan', 'Tamil Nadu', 'Uttarakhand', 'Uttar Pradesh', 'West Bengal', 'Jammu and Kashmir', 'Assam', 'Bihar', 'Mizoram', 'Chandigarh', 'Manipur', 'DNH and DD', 'Nagaland', 'Tripura', 'Meghalaya', 'Andaman & Nicobar Island', 'Ladakh', 'Arunachal Pradesh', 'Sikkim', 'others'])"
      ]
     },
     "execution_count": 24,
     "metadata": {},
     "output_type": "execute_result"
    }
   ],
   "source": [
    "States_dictionary.keys()"
   ]
  },
  {
   "cell_type": "code",
   "execution_count": 25,
   "id": "5345fa37-57de-4cf6-8448-7e51c2083ddb",
   "metadata": {},
   "outputs": [
    {
     "data": {
      "text/plain": [
       "13                 Andhra Pradesh\n",
       "102                  Chhattisgarh\n",
       "153                         Delhi\n",
       "157                         Delhi\n",
       "173                           Goa\n",
       "                   ...           \n",
       "96833                         Goa\n",
       "96837    Andaman & Nicobar Island\n",
       "96839    Andaman & Nicobar Island\n",
       "96840    Andaman & Nicobar Island\n",
       "96841    Andaman & Nicobar Island\n",
       "Name: State, Length: 14062, dtype: object"
      ]
     },
     "execution_count": 25,
     "metadata": {},
     "output_type": "execute_result"
    }
   ],
   "source": [
    "non_zero_sales['State']"
   ]
  },
  {
   "cell_type": "code",
   "execution_count": 26,
   "id": "474571ed-773d-4505-83ad-fe81f80b54e9",
   "metadata": {},
   "outputs": [],
   "source": [
    "non_zero_sales['State_encoded']=[States_dictionary[val] if val in States_dictionary.keys() else 100 for val in non_zero_sales['State']   ]"
   ]
  },
  {
   "cell_type": "code",
   "execution_count": 27,
   "id": "0608ab03-7005-425a-bfe0-c459623a988d",
   "metadata": {},
   "outputs": [
    {
     "data": {
      "text/plain": [
       "Year                 0\n",
       "State                0\n",
       "Vehicle_Class        0\n",
       "Vehicle_Category     0\n",
       "Vehicle_Type         0\n",
       "EV_Sales_Quantity    0\n",
       "State_encoded        0\n",
       "dtype: int64"
      ]
     },
     "execution_count": 27,
     "metadata": {},
     "output_type": "execute_result"
    }
   ],
   "source": [
    "non_zero_sales.isna().sum()"
   ]
  },
  {
   "cell_type": "code",
   "execution_count": 28,
   "id": "063d46b9-80aa-49b8-8284-1f1c054f4236",
   "metadata": {},
   "outputs": [
    {
     "data": {
      "text/html": [
       "<div>\n",
       "<style scoped>\n",
       "    .dataframe tbody tr th:only-of-type {\n",
       "        vertical-align: middle;\n",
       "    }\n",
       "\n",
       "    .dataframe tbody tr th {\n",
       "        vertical-align: top;\n",
       "    }\n",
       "\n",
       "    .dataframe thead th {\n",
       "        text-align: right;\n",
       "    }\n",
       "</style>\n",
       "<table border=\"1\" class=\"dataframe\">\n",
       "  <thead>\n",
       "    <tr style=\"text-align: right;\">\n",
       "      <th></th>\n",
       "      <th>Year</th>\n",
       "      <th>State</th>\n",
       "      <th>Vehicle_Class</th>\n",
       "      <th>Vehicle_Category</th>\n",
       "      <th>Vehicle_Type</th>\n",
       "      <th>EV_Sales_Quantity</th>\n",
       "      <th>State_encoded</th>\n",
       "    </tr>\n",
       "  </thead>\n",
       "  <tbody>\n",
       "    <tr>\n",
       "      <th>13</th>\n",
       "      <td>2014</td>\n",
       "      <td>Andhra Pradesh</td>\n",
       "      <td>M-CYCLE/SCOOTER</td>\n",
       "      <td>2-Wheelers</td>\n",
       "      <td>2W_Personal</td>\n",
       "      <td>1</td>\n",
       "      <td>0</td>\n",
       "    </tr>\n",
       "    <tr>\n",
       "      <th>102</th>\n",
       "      <td>2014</td>\n",
       "      <td>Chhattisgarh</td>\n",
       "      <td>M-CYCLE/SCOOTER</td>\n",
       "      <td>2-Wheelers</td>\n",
       "      <td>2W_Personal</td>\n",
       "      <td>10</td>\n",
       "      <td>1</td>\n",
       "    </tr>\n",
       "    <tr>\n",
       "      <th>153</th>\n",
       "      <td>2014</td>\n",
       "      <td>Delhi</td>\n",
       "      <td>M-CYCLE/SCOOTER</td>\n",
       "      <td>2-Wheelers</td>\n",
       "      <td>2W_Personal</td>\n",
       "      <td>2</td>\n",
       "      <td>2</td>\n",
       "    </tr>\n",
       "    <tr>\n",
       "      <th>157</th>\n",
       "      <td>2014</td>\n",
       "      <td>Delhi</td>\n",
       "      <td>MOTOR CAR</td>\n",
       "      <td>4-Wheelers</td>\n",
       "      <td>4W_Personal</td>\n",
       "      <td>5</td>\n",
       "      <td>2</td>\n",
       "    </tr>\n",
       "    <tr>\n",
       "      <th>173</th>\n",
       "      <td>2014</td>\n",
       "      <td>Goa</td>\n",
       "      <td>MOTOR CAR</td>\n",
       "      <td>4-Wheelers</td>\n",
       "      <td>4W_Personal</td>\n",
       "      <td>1</td>\n",
       "      <td>3</td>\n",
       "    </tr>\n",
       "    <tr>\n",
       "      <th>...</th>\n",
       "      <td>...</td>\n",
       "      <td>...</td>\n",
       "      <td>...</td>\n",
       "      <td>...</td>\n",
       "      <td>...</td>\n",
       "      <td>...</td>\n",
       "      <td>...</td>\n",
       "    </tr>\n",
       "    <tr>\n",
       "      <th>96833</th>\n",
       "      <td>2023</td>\n",
       "      <td>Goa</td>\n",
       "      <td>THREE WHEELER (PERSONAL)</td>\n",
       "      <td>3-Wheelers</td>\n",
       "      <td>3W_Personal</td>\n",
       "      <td>1</td>\n",
       "      <td>3</td>\n",
       "    </tr>\n",
       "    <tr>\n",
       "      <th>96837</th>\n",
       "      <td>2023</td>\n",
       "      <td>Andaman &amp; Nicobar Island</td>\n",
       "      <td>M-CYCLE/SCOOTER</td>\n",
       "      <td>2-Wheelers</td>\n",
       "      <td>2W_Personal</td>\n",
       "      <td>2</td>\n",
       "      <td>25</td>\n",
       "    </tr>\n",
       "    <tr>\n",
       "      <th>96839</th>\n",
       "      <td>2023</td>\n",
       "      <td>Andaman &amp; Nicobar Island</td>\n",
       "      <td>MOTOR CAB</td>\n",
       "      <td>4-Wheelers</td>\n",
       "      <td>4W_Shared</td>\n",
       "      <td>1</td>\n",
       "      <td>25</td>\n",
       "    </tr>\n",
       "    <tr>\n",
       "      <th>96840</th>\n",
       "      <td>2023</td>\n",
       "      <td>Andaman &amp; Nicobar Island</td>\n",
       "      <td>MOTOR CAR</td>\n",
       "      <td>4-Wheelers</td>\n",
       "      <td>4W_Personal</td>\n",
       "      <td>1</td>\n",
       "      <td>25</td>\n",
       "    </tr>\n",
       "    <tr>\n",
       "      <th>96841</th>\n",
       "      <td>2023</td>\n",
       "      <td>Andaman &amp; Nicobar Island</td>\n",
       "      <td>MOTOR CYCLE/SCOOTER-USED FOR HIRE</td>\n",
       "      <td>2-Wheelers</td>\n",
       "      <td>2W_Shared</td>\n",
       "      <td>5</td>\n",
       "      <td>25</td>\n",
       "    </tr>\n",
       "  </tbody>\n",
       "</table>\n",
       "<p>14062 rows × 7 columns</p>\n",
       "</div>"
      ],
      "text/plain": [
       "       Year                     State                      Vehicle_Class  \\\n",
       "13     2014            Andhra Pradesh                    M-CYCLE/SCOOTER   \n",
       "102    2014              Chhattisgarh                    M-CYCLE/SCOOTER   \n",
       "153    2014                     Delhi                    M-CYCLE/SCOOTER   \n",
       "157    2014                     Delhi                          MOTOR CAR   \n",
       "173    2014                       Goa                          MOTOR CAR   \n",
       "...     ...                       ...                                ...   \n",
       "96833  2023                       Goa           THREE WHEELER (PERSONAL)   \n",
       "96837  2023  Andaman & Nicobar Island                    M-CYCLE/SCOOTER   \n",
       "96839  2023  Andaman & Nicobar Island                          MOTOR CAB   \n",
       "96840  2023  Andaman & Nicobar Island                          MOTOR CAR   \n",
       "96841  2023  Andaman & Nicobar Island  MOTOR CYCLE/SCOOTER-USED FOR HIRE   \n",
       "\n",
       "      Vehicle_Category Vehicle_Type  EV_Sales_Quantity  State_encoded  \n",
       "13          2-Wheelers  2W_Personal                  1              0  \n",
       "102         2-Wheelers  2W_Personal                 10              1  \n",
       "153         2-Wheelers  2W_Personal                  2              2  \n",
       "157         4-Wheelers  4W_Personal                  5              2  \n",
       "173         4-Wheelers  4W_Personal                  1              3  \n",
       "...                ...          ...                ...            ...  \n",
       "96833       3-Wheelers  3W_Personal                  1              3  \n",
       "96837       2-Wheelers  2W_Personal                  2             25  \n",
       "96839       4-Wheelers    4W_Shared                  1             25  \n",
       "96840       4-Wheelers  4W_Personal                  1             25  \n",
       "96841       2-Wheelers    2W_Shared                  5             25  \n",
       "\n",
       "[14062 rows x 7 columns]"
      ]
     },
     "execution_count": 28,
     "metadata": {},
     "output_type": "execute_result"
    }
   ],
   "source": [
    "non_zero_sales"
   ]
  },
  {
   "cell_type": "markdown",
   "id": "e7d0d7eb-640e-47d1-a84c-f1d32fabe9cf",
   "metadata": {},
   "source": [
    "- State is encoded so now dropping state column\n",
    "- **For my model i have selected two features**\n",
    "- State_encoded and EV_Sales_Quantity\n",
    "**Because we need to predict Sales by state in Indiaso removing Unnecessary column**\n"
   ]
  },
  {
   "cell_type": "code",
   "execution_count": 29,
   "id": "3669ef63-601f-4087-a17b-2d2288f36911",
   "metadata": {},
   "outputs": [],
   "source": [
    "non_zero_sales=non_zero_sales.drop(['State','Vehicle_Class','Vehicle_Category','Vehicle_Type'],axis=1)"
   ]
  },
  {
   "cell_type": "code",
   "execution_count": 30,
   "id": "fa8ccc86-b2d7-42cd-be17-432e6515effc",
   "metadata": {},
   "outputs": [
    {
     "data": {
      "text/html": [
       "<div>\n",
       "<style scoped>\n",
       "    .dataframe tbody tr th:only-of-type {\n",
       "        vertical-align: middle;\n",
       "    }\n",
       "\n",
       "    .dataframe tbody tr th {\n",
       "        vertical-align: top;\n",
       "    }\n",
       "\n",
       "    .dataframe thead th {\n",
       "        text-align: right;\n",
       "    }\n",
       "</style>\n",
       "<table border=\"1\" class=\"dataframe\">\n",
       "  <thead>\n",
       "    <tr style=\"text-align: right;\">\n",
       "      <th></th>\n",
       "      <th>Year</th>\n",
       "      <th>EV_Sales_Quantity</th>\n",
       "      <th>State_encoded</th>\n",
       "    </tr>\n",
       "  </thead>\n",
       "  <tbody>\n",
       "    <tr>\n",
       "      <th>13</th>\n",
       "      <td>2014</td>\n",
       "      <td>1</td>\n",
       "      <td>0</td>\n",
       "    </tr>\n",
       "    <tr>\n",
       "      <th>102</th>\n",
       "      <td>2014</td>\n",
       "      <td>10</td>\n",
       "      <td>1</td>\n",
       "    </tr>\n",
       "    <tr>\n",
       "      <th>153</th>\n",
       "      <td>2014</td>\n",
       "      <td>2</td>\n",
       "      <td>2</td>\n",
       "    </tr>\n",
       "    <tr>\n",
       "      <th>157</th>\n",
       "      <td>2014</td>\n",
       "      <td>5</td>\n",
       "      <td>2</td>\n",
       "    </tr>\n",
       "    <tr>\n",
       "      <th>173</th>\n",
       "      <td>2014</td>\n",
       "      <td>1</td>\n",
       "      <td>3</td>\n",
       "    </tr>\n",
       "    <tr>\n",
       "      <th>...</th>\n",
       "      <td>...</td>\n",
       "      <td>...</td>\n",
       "      <td>...</td>\n",
       "    </tr>\n",
       "    <tr>\n",
       "      <th>96833</th>\n",
       "      <td>2023</td>\n",
       "      <td>1</td>\n",
       "      <td>3</td>\n",
       "    </tr>\n",
       "    <tr>\n",
       "      <th>96837</th>\n",
       "      <td>2023</td>\n",
       "      <td>2</td>\n",
       "      <td>25</td>\n",
       "    </tr>\n",
       "    <tr>\n",
       "      <th>96839</th>\n",
       "      <td>2023</td>\n",
       "      <td>1</td>\n",
       "      <td>25</td>\n",
       "    </tr>\n",
       "    <tr>\n",
       "      <th>96840</th>\n",
       "      <td>2023</td>\n",
       "      <td>1</td>\n",
       "      <td>25</td>\n",
       "    </tr>\n",
       "    <tr>\n",
       "      <th>96841</th>\n",
       "      <td>2023</td>\n",
       "      <td>5</td>\n",
       "      <td>25</td>\n",
       "    </tr>\n",
       "  </tbody>\n",
       "</table>\n",
       "<p>14062 rows × 3 columns</p>\n",
       "</div>"
      ],
      "text/plain": [
       "       Year  EV_Sales_Quantity  State_encoded\n",
       "13     2014                  1              0\n",
       "102    2014                 10              1\n",
       "153    2014                  2              2\n",
       "157    2014                  5              2\n",
       "173    2014                  1              3\n",
       "...     ...                ...            ...\n",
       "96833  2023                  1              3\n",
       "96837  2023                  2             25\n",
       "96839  2023                  1             25\n",
       "96840  2023                  1             25\n",
       "96841  2023                  5             25\n",
       "\n",
       "[14062 rows x 3 columns]"
      ]
     },
     "execution_count": 30,
     "metadata": {},
     "output_type": "execute_result"
    }
   ],
   "source": [
    "non_zero_sales"
   ]
  },
  {
   "cell_type": "code",
   "execution_count": 31,
   "id": "e2c6de3f-5a23-4a81-8ff1-970fe8af72cb",
   "metadata": {},
   "outputs": [
    {
     "name": "stdout",
     "output_type": "stream",
     "text": [
      "(7031, 3)\n",
      "(7031, 3)\n"
     ]
    }
   ],
   "source": [
    "#train_test split\n",
    "non_zero_sales_train,non_zero_sales_test=train_test_split(non_zero_sales,test_size=0.50)\n",
    "print(non_zero_sales_train.shape)\n",
    "print(non_zero_sales_test.shape)"
   ]
  },
  {
   "cell_type": "code",
   "execution_count": 32,
   "id": "fdb184bd-8693-4617-9630-bc20a59f61f5",
   "metadata": {},
   "outputs": [
    {
     "name": "stdout",
     "output_type": "stream",
     "text": [
      "(5273, 3)\n",
      "(1758, 3)\n"
     ]
    }
   ],
   "source": [
    "x_train,x_test=train_test_split(non_zero_sales_train,test_size=0.25)\n",
    "print(x_train.shape)\n",
    "print(x_test.shape)"
   ]
  },
  {
   "cell_type": "code",
   "execution_count": 33,
   "id": "1251d8a1-8363-4eea-9591-03cb03aa2bbb",
   "metadata": {},
   "outputs": [
    {
     "name": "stdout",
     "output_type": "stream",
     "text": [
      "(5273, 3)\n",
      "(1758, 3)\n"
     ]
    }
   ],
   "source": [
    "y_train,y_test=train_test_split(non_zero_sales_test,test_size=0.25)\n",
    "print(y_train.shape)\n",
    "print(y_test.shape)"
   ]
  },
  {
   "cell_type": "markdown",
   "id": "80a100ad-9b19-4f08-bae3-aed7e16ce2ea",
   "metadata": {},
   "source": [
    "**Model_Trainer**"
   ]
  },
  {
   "cell_type": "code",
   "execution_count": 40,
   "id": "80c509f8-7db3-485e-a789-4fcce67b1f1a",
   "metadata": {},
   "outputs": [
    {
     "name": "stdout",
     "output_type": "stream",
     "text": [
      "323160.03881340456\n",
      "-0.0011910981187836327\n"
     ]
    }
   ],
   "source": [
    "#LinearRegression\n",
    "model=LinearRegression()\n",
    "model.fit(x_train,y_train)\n",
    "pred=model.predict(x_test)\n",
    "print(metrics.mean_squared_error(y_test,pred))\n",
    "print(metrics.r2_score(y_test,pred))"
   ]
  },
  {
   "cell_type": "markdown",
   "id": "81a43f3c-c001-4229-bf57-9a6a203a2e3e",
   "metadata": {},
   "source": [
    "#### Model Evaluation"
   ]
  },
  {
   "cell_type": "code",
   "execution_count": 35,
   "id": "516e47d0-3c67-41ab-be56-59034026bdd3",
   "metadata": {},
   "outputs": [],
   "source": []
  },
  {
   "cell_type": "code",
   "execution_count": null,
   "id": "22bbb942-e576-4b7e-b0b0-4c5e440ccbdb",
   "metadata": {},
   "outputs": [],
   "source": []
  },
  {
   "cell_type": "code",
   "execution_count": null,
   "id": "da1b0947-2ae1-4092-92d0-b90d411a7a07",
   "metadata": {},
   "outputs": [],
   "source": []
  }
 ],
 "metadata": {
  "kernelspec": {
   "display_name": "Python 3 (ipykernel)",
   "language": "python",
   "name": "python3"
  },
  "language_info": {
   "codemirror_mode": {
    "name": "ipython",
    "version": 3
   },
   "file_extension": ".py",
   "mimetype": "text/x-python",
   "name": "python",
   "nbconvert_exporter": "python",
   "pygments_lexer": "ipython3",
   "version": "3.12.7"
  }
 },
 "nbformat": 4,
 "nbformat_minor": 5
}
